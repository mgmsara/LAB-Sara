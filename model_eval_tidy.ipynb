{
 "cells": [
  {
   "cell_type": "markdown",
   "source": [
    "## Imports and utilities"
   ],
   "metadata": {
    "collapsed": false,
    "pycharm": {
     "name": "#%% md\n"
    }
   }
  },
  {
   "cell_type": "code",
   "execution_count": 1,
   "outputs": [],
   "source": [
    "import numpy as np\n",
    "import pandas as pd\n",
    "import matplotlib.pyplot as plt\n",
    "import seaborn as sns\n",
    "from scipy.stats import boxcox\n",
    "from scipy.stats import norm\n",
    "import math\n",
    "%matplotlib inline\n",
    "pd.options.display.max_rows = 40\n",
    "import warnings\n",
    "\n",
    "import seaborn as sns\n",
    "from sklearn.preprocessing import StandardScaler, OneHotEncoder\n",
    "from sklearn.compose import ColumnTransformer\n",
    "from sklearn.linear_model import LinearRegression, Lasso,Ridge\n",
    "\n",
    "import statsmodels.api as sm\n",
    "from sklearn.model_selection import train_test_split\n",
    "from sklearn.metrics import r2_score\n",
    "from skimpy import clean_columns\n",
    "from nltk.metrics import edit_distance\n",
    "\n",
    "warnings.simplefilter(action='ignore', category=FutureWarning)"
   ],
   "metadata": {
    "collapsed": false,
    "pycharm": {
     "name": "#%%\n"
    }
   }
  },
  {
   "cell_type": "code",
   "execution_count": 21,
   "outputs": [],
   "source": [
    "class Cleaner:\n",
    "    def __init__(self, df):\n",
    "\n",
    "        self.cdf = clean_columns(df,case='snake')\n",
    "        self.numerics_df =  self.cdf.select_dtypes(include=[np.number])\n",
    "        self.numeric_cols = self.numerics_df.columns.values\n",
    "        self.cats_df =   self.cdf.select_dtypes(include=object)\n",
    "        self.cat_cols = self.cats_df.columns.values\n",
    "\n",
    "    def drop_dups(self):\n",
    "        df = self.cdf\n",
    "        df_dedupped = df.drop_duplicates()\n",
    "        # there were duplicate rows\n",
    "        print('Dropping {} duplicates'.format(df.shape[0] - df_dedupped.shape[0]))\n",
    "        df = df_dedupped\n",
    "\n",
    "    def drop_select_dups(self, keys):\n",
    "        #df.fillna(-999).groupby(keys)['id'].count().sort_values(ascending=False).head(20)\n",
    "        self.cdf = self.cdf.drop_duplicates(subset=keys)\n",
    "\n",
    "    def show_missing(self):\n",
    "        for col in self.cdf.columns:\n",
    "            pct_missing = np.mean(self.cdf[col].isnull())\n",
    "            print('{} - {}%'.format(col, round(pct_missing*100)))\n",
    "\n",
    "    def drop_missing(self, replace=False):\n",
    "        df = self.cdf\n",
    "        # first create missing indicator for features with missing data\n",
    "        for col in df.columns:\n",
    "            missing = df[col].isnull()\n",
    "            num_missing = np.sum(missing)\n",
    "            if num_missing > 0:\n",
    "                print('created missing indicator for: {}'.format(col))\n",
    "                df['{}_ismissing'.format(col)] = missing\n",
    "\n",
    "            if replace == True:\n",
    "                # categorical\n",
    "                if col in set(self.numeric_cols):\n",
    "                    print('Numerical column '+col+' has missing values.')\n",
    "                    filler = input('Input a filler value (e.g. -999).')\n",
    "                    df[col] = df[col].fillna(filler).astype(int)\n",
    "                else:\n",
    "                    print('Categorical column '+col+' has missing values.')\n",
    "                    filler = input('Input a filler value (e.g. _MISSING_). ')\n",
    "                    df[col] = df[col].fillna(filler)\n",
    "\n",
    "        if replace == False:\n",
    "            from math import ceil\n",
    "            cut_off = ceil(0.50*len(df.columns)) # if a row is missing more than 10% of its entries drop it\n",
    "            ismissing_cols = [col for col in df.columns if 'ismissing' in col]\n",
    "            df['num_missing'] = df[ismissing_cols].sum(axis=1)\n",
    "            # drop rows with a lot of missing values.\n",
    "            ind_missing = df[df['num_missing'] > cut_off].index\n",
    "            df = df.drop(ind_missing, axis=0)\n",
    "\n",
    "    def impute_numerics(self):\n",
    "        df = self.cdf\n",
    "        for col in self.numeric_cols:\n",
    "            missing = df[col].isnull()\n",
    "            num_missing = np.sum(missing)\n",
    "\n",
    "            if num_missing > 0:  # only do the imputation for the columns that have missing values.\n",
    "                print('imputing missing values for: {}'.format(col))\n",
    "                #df['{}_ismissing'.format(col)] = missing\n",
    "                med = df[col].median()\n",
    "                df[col] = df[col].fillna(med)\n",
    "\n",
    "    def impute_cats(self):\n",
    "        df = self.cdf\n",
    "        for col in self.cat_cols:\n",
    "            missing = df[col].isnull()\n",
    "            num_missing = np.sum(missing)\n",
    "\n",
    "            if num_missing > 0:  # only do the imputation for the columns that have missing values.\n",
    "                print('imputing missing values for: {}'.format(col))\n",
    "                #df['{}_ismissing'.format(col)] = missing\n",
    "                top = df[col].describe()['top'] # impute with the most frequent value.\n",
    "                df[col] = df[col].fillna(top)\n",
    "\n",
    "    def redundants(self):\n",
    "        df = self.cdf\n",
    "        num_rows = len(df.index)\n",
    "        low_information_cols = [] #\n",
    "\n",
    "        for col in df.columns:\n",
    "            cnts = df[col].value_counts(dropna=False)\n",
    "            top_pct = (cnts/num_rows).iloc[0]\n",
    "\n",
    "            if top_pct > 0.95:\n",
    "                low_information_cols.append(col)\n",
    "                print('{0}: {1:.5f}%'.format(col, top_pct*100))\n",
    "                print(cnts)\n",
    "                print()\n",
    "\n",
    "\n",
    "    def col_rename(self, dict_rules):\n",
    "        ''' rename columns in data frame using a dictionary of rules  '''\n",
    "        if isinstance(dict_rules,dict):\n",
    "            self.cdf.rename(columns = dict_rules, inplace=True)\n",
    "        else:\n",
    "            raise TypeError\n",
    "\n",
    "    def expand_timestamp(self, time_colname):\n",
    "        df = self.cdf\n",
    "        df['timestamp_dt'] = pd.to_datetime(df[time_colname], format='%Y-%m-%d')\n",
    "        df['year'] = df['timestamp_dt'].dt.year\n",
    "        df['month'] = df['timestamp_dt'].dt.month\n",
    "        df['weekday'] = df['timestamp_dt'].dt.weekday\n",
    "\n",
    "        print(df['year'].value_counts(dropna=False))\n",
    "        print()\n",
    "        print(df['month'].value_counts(dropna=False))\n",
    "\n",
    "    def get_typos(self,colname, word):\n",
    "        tmp = pd.DataFrame([])\n",
    "        tmp[colname] = self.cdf[colname]\n",
    "        cn = 'distance_'+word\n",
    "        tmp[cn] = self.cdf[colname].map(lambda x: edit_distance(x, word))\n",
    "        return tmp.value_counts()\n",
    "\n",
    "    def fix_typos(self,colname, word, dist=2):\n",
    "        tmp = self.cdf.copy()\n",
    "        tmp[colname] = self.cdf[colname]\n",
    "        cn = 'distance_'+word\n",
    "        tmp[cn] = self.cdf[colname].map(lambda x: edit_distance(x, word))\n",
    "        msk = tmp[cn] <= dist\n",
    "        self.cdf.loc[msk, colname] = word\n",
    "\n",
    "    def row_string_replace(self, colname, replacement_dict):\n",
    "        self.cdf[colname] = self.cdf[colname].replace(replacement_dict)\n",
    "\n"
   ],
   "metadata": {
    "collapsed": false,
    "pycharm": {
     "name": "#%%\n"
    }
   }
  },
  {
   "cell_type": "markdown",
   "source": [
    "### Read and clean the data"
   ],
   "metadata": {
    "collapsed": false,
    "pycharm": {
     "name": "#%% md\n"
    }
   }
  },
  {
   "cell_type": "code",
   "execution_count": 2,
   "outputs": [],
   "source": [
    "c_df = pd.read_csv('Data_Marketing_Customer_Analysis_Round3.csv') # precleaned data"
   ],
   "metadata": {
    "collapsed": false,
    "pycharm": {
     "name": "#%%\n"
    }
   }
  },
  {
   "cell_type": "code",
   "execution_count": 3,
   "outputs": [
    {
     "name": "stdout",
     "output_type": "stream",
     "text": [
      "<class 'pandas.core.frame.DataFrame'>\n",
      "RangeIndex: 10689 entries, 0 to 10688\n",
      "Data columns (total 25 columns):\n",
      " #   Column                         Non-Null Count  Dtype \n",
      "---  ------                         --------------  ----- \n",
      " 0   Unnamed: 0                     10689 non-null  int64 \n",
      " 1   region                         10689 non-null  object\n",
      " 2   customer_lifetime_value        10689 non-null  int64 \n",
      " 3   response                       10689 non-null  object\n",
      " 4   coverage                       10689 non-null  object\n",
      " 5   education                      10689 non-null  object\n",
      " 6   effective_to_date              10689 non-null  object\n",
      " 7   month                          10689 non-null  object\n",
      " 8   employment_status              10689 non-null  object\n",
      " 9   gender                         10689 non-null  object\n",
      " 10  income                         10689 non-null  int64 \n",
      " 11  location_code                  10689 non-null  object\n",
      " 12  marital_status                 10689 non-null  object\n",
      " 13  monthly_premium_auto           10689 non-null  int64 \n",
      " 14  months_since_last_claim        10689 non-null  int64 \n",
      " 15  months_since_policy_inception  10689 non-null  int64 \n",
      " 16  number_of_open_complaints      10689 non-null  int64 \n",
      " 17  number_of_policies             10689 non-null  int64 \n",
      " 18  policy_type                    10689 non-null  object\n",
      " 19  policy                         10689 non-null  object\n",
      " 20  renew_offer_type               10689 non-null  object\n",
      " 21  sales_channel                  10689 non-null  object\n",
      " 22  total_claim_amount             10689 non-null  int64 \n",
      " 23  vehicle_class                  10689 non-null  object\n",
      " 24  vehicle_size                   10689 non-null  object\n",
      "dtypes: int64(9), object(16)\n",
      "memory usage: 2.0+ MB\n"
     ]
    }
   ],
   "source": [
    "c_df.info()"
   ],
   "metadata": {
    "collapsed": false,
    "pycharm": {
     "name": "#%%\n"
    }
   }
  },
  {
   "cell_type": "code",
   "execution_count": 7,
   "outputs": [
    {
     "ename": "KeyError",
     "evalue": "\"['Unnamed: 0'] not found in axis\"",
     "output_type": "error",
     "traceback": [
      "\u001B[0;31m---------------------------------------------------------------------------\u001B[0m",
      "\u001B[0;31mKeyError\u001B[0m                                  Traceback (most recent call last)",
      "Input \u001B[0;32mIn [7]\u001B[0m, in \u001B[0;36m<cell line: 1>\u001B[0;34m()\u001B[0m\n\u001B[0;32m----> 1\u001B[0m \u001B[43mc_df\u001B[49m\u001B[38;5;241;43m.\u001B[39;49m\u001B[43mdrop\u001B[49m\u001B[43m(\u001B[49m\u001B[43mlabels\u001B[49m\u001B[38;5;241;43m=\u001B[39;49m\u001B[43m[\u001B[49m\u001B[38;5;124;43m'\u001B[39;49m\u001B[38;5;124;43mUnnamed: 0\u001B[39;49m\u001B[38;5;124;43m'\u001B[39;49m\u001B[43m]\u001B[49m\u001B[43m,\u001B[49m\u001B[43maxis\u001B[49m\u001B[38;5;241;43m=\u001B[39;49m\u001B[38;5;241;43m1\u001B[39;49m\u001B[43m,\u001B[49m\u001B[43minplace\u001B[49m\u001B[38;5;241;43m=\u001B[39;49m\u001B[38;5;28;43;01mTrue\u001B[39;49;00m\u001B[43m)\u001B[49m\n",
      "File \u001B[0;32m~/.pyenv/versions/mambaforge-4.10.1-4/envs/ih_DA_env/lib/python3.9/site-packages/pandas/util/_decorators.py:311\u001B[0m, in \u001B[0;36mdeprecate_nonkeyword_arguments.<locals>.decorate.<locals>.wrapper\u001B[0;34m(*args, **kwargs)\u001B[0m\n\u001B[1;32m    305\u001B[0m \u001B[38;5;28;01mif\u001B[39;00m \u001B[38;5;28mlen\u001B[39m(args) \u001B[38;5;241m>\u001B[39m num_allow_args:\n\u001B[1;32m    306\u001B[0m     warnings\u001B[38;5;241m.\u001B[39mwarn(\n\u001B[1;32m    307\u001B[0m         msg\u001B[38;5;241m.\u001B[39mformat(arguments\u001B[38;5;241m=\u001B[39marguments),\n\u001B[1;32m    308\u001B[0m         \u001B[38;5;167;01mFutureWarning\u001B[39;00m,\n\u001B[1;32m    309\u001B[0m         stacklevel\u001B[38;5;241m=\u001B[39mstacklevel,\n\u001B[1;32m    310\u001B[0m     )\n\u001B[0;32m--> 311\u001B[0m \u001B[38;5;28;01mreturn\u001B[39;00m \u001B[43mfunc\u001B[49m\u001B[43m(\u001B[49m\u001B[38;5;241;43m*\u001B[39;49m\u001B[43margs\u001B[49m\u001B[43m,\u001B[49m\u001B[43m \u001B[49m\u001B[38;5;241;43m*\u001B[39;49m\u001B[38;5;241;43m*\u001B[39;49m\u001B[43mkwargs\u001B[49m\u001B[43m)\u001B[49m\n",
      "File \u001B[0;32m~/.pyenv/versions/mambaforge-4.10.1-4/envs/ih_DA_env/lib/python3.9/site-packages/pandas/core/frame.py:4954\u001B[0m, in \u001B[0;36mDataFrame.drop\u001B[0;34m(self, labels, axis, index, columns, level, inplace, errors)\u001B[0m\n\u001B[1;32m   4806\u001B[0m \u001B[38;5;129m@deprecate_nonkeyword_arguments\u001B[39m(version\u001B[38;5;241m=\u001B[39m\u001B[38;5;28;01mNone\u001B[39;00m, allowed_args\u001B[38;5;241m=\u001B[39m[\u001B[38;5;124m\"\u001B[39m\u001B[38;5;124mself\u001B[39m\u001B[38;5;124m\"\u001B[39m, \u001B[38;5;124m\"\u001B[39m\u001B[38;5;124mlabels\u001B[39m\u001B[38;5;124m\"\u001B[39m])\n\u001B[1;32m   4807\u001B[0m \u001B[38;5;28;01mdef\u001B[39;00m \u001B[38;5;21mdrop\u001B[39m(\n\u001B[1;32m   4808\u001B[0m     \u001B[38;5;28mself\u001B[39m,\n\u001B[0;32m   (...)\u001B[0m\n\u001B[1;32m   4815\u001B[0m     errors: \u001B[38;5;28mstr\u001B[39m \u001B[38;5;241m=\u001B[39m \u001B[38;5;124m\"\u001B[39m\u001B[38;5;124mraise\u001B[39m\u001B[38;5;124m\"\u001B[39m,\n\u001B[1;32m   4816\u001B[0m ):\n\u001B[1;32m   4817\u001B[0m     \u001B[38;5;124;03m\"\"\"\u001B[39;00m\n\u001B[1;32m   4818\u001B[0m \u001B[38;5;124;03m    Drop specified labels from rows or columns.\u001B[39;00m\n\u001B[1;32m   4819\u001B[0m \n\u001B[0;32m   (...)\u001B[0m\n\u001B[1;32m   4952\u001B[0m \u001B[38;5;124;03m            weight  1.0     0.8\u001B[39;00m\n\u001B[1;32m   4953\u001B[0m \u001B[38;5;124;03m    \"\"\"\u001B[39;00m\n\u001B[0;32m-> 4954\u001B[0m     \u001B[38;5;28;01mreturn\u001B[39;00m \u001B[38;5;28;43msuper\u001B[39;49m\u001B[43m(\u001B[49m\u001B[43m)\u001B[49m\u001B[38;5;241;43m.\u001B[39;49m\u001B[43mdrop\u001B[49m\u001B[43m(\u001B[49m\n\u001B[1;32m   4955\u001B[0m \u001B[43m        \u001B[49m\u001B[43mlabels\u001B[49m\u001B[38;5;241;43m=\u001B[39;49m\u001B[43mlabels\u001B[49m\u001B[43m,\u001B[49m\n\u001B[1;32m   4956\u001B[0m \u001B[43m        \u001B[49m\u001B[43maxis\u001B[49m\u001B[38;5;241;43m=\u001B[39;49m\u001B[43maxis\u001B[49m\u001B[43m,\u001B[49m\n\u001B[1;32m   4957\u001B[0m \u001B[43m        \u001B[49m\u001B[43mindex\u001B[49m\u001B[38;5;241;43m=\u001B[39;49m\u001B[43mindex\u001B[49m\u001B[43m,\u001B[49m\n\u001B[1;32m   4958\u001B[0m \u001B[43m        \u001B[49m\u001B[43mcolumns\u001B[49m\u001B[38;5;241;43m=\u001B[39;49m\u001B[43mcolumns\u001B[49m\u001B[43m,\u001B[49m\n\u001B[1;32m   4959\u001B[0m \u001B[43m        \u001B[49m\u001B[43mlevel\u001B[49m\u001B[38;5;241;43m=\u001B[39;49m\u001B[43mlevel\u001B[49m\u001B[43m,\u001B[49m\n\u001B[1;32m   4960\u001B[0m \u001B[43m        \u001B[49m\u001B[43minplace\u001B[49m\u001B[38;5;241;43m=\u001B[39;49m\u001B[43minplace\u001B[49m\u001B[43m,\u001B[49m\n\u001B[1;32m   4961\u001B[0m \u001B[43m        \u001B[49m\u001B[43merrors\u001B[49m\u001B[38;5;241;43m=\u001B[39;49m\u001B[43merrors\u001B[49m\u001B[43m,\u001B[49m\n\u001B[1;32m   4962\u001B[0m \u001B[43m    \u001B[49m\u001B[43m)\u001B[49m\n",
      "File \u001B[0;32m~/.pyenv/versions/mambaforge-4.10.1-4/envs/ih_DA_env/lib/python3.9/site-packages/pandas/core/generic.py:4267\u001B[0m, in \u001B[0;36mNDFrame.drop\u001B[0;34m(self, labels, axis, index, columns, level, inplace, errors)\u001B[0m\n\u001B[1;32m   4265\u001B[0m \u001B[38;5;28;01mfor\u001B[39;00m axis, labels \u001B[38;5;129;01min\u001B[39;00m axes\u001B[38;5;241m.\u001B[39mitems():\n\u001B[1;32m   4266\u001B[0m     \u001B[38;5;28;01mif\u001B[39;00m labels \u001B[38;5;129;01mis\u001B[39;00m \u001B[38;5;129;01mnot\u001B[39;00m \u001B[38;5;28;01mNone\u001B[39;00m:\n\u001B[0;32m-> 4267\u001B[0m         obj \u001B[38;5;241m=\u001B[39m \u001B[43mobj\u001B[49m\u001B[38;5;241;43m.\u001B[39;49m\u001B[43m_drop_axis\u001B[49m\u001B[43m(\u001B[49m\u001B[43mlabels\u001B[49m\u001B[43m,\u001B[49m\u001B[43m \u001B[49m\u001B[43maxis\u001B[49m\u001B[43m,\u001B[49m\u001B[43m \u001B[49m\u001B[43mlevel\u001B[49m\u001B[38;5;241;43m=\u001B[39;49m\u001B[43mlevel\u001B[49m\u001B[43m,\u001B[49m\u001B[43m \u001B[49m\u001B[43merrors\u001B[49m\u001B[38;5;241;43m=\u001B[39;49m\u001B[43merrors\u001B[49m\u001B[43m)\u001B[49m\n\u001B[1;32m   4269\u001B[0m \u001B[38;5;28;01mif\u001B[39;00m inplace:\n\u001B[1;32m   4270\u001B[0m     \u001B[38;5;28mself\u001B[39m\u001B[38;5;241m.\u001B[39m_update_inplace(obj)\n",
      "File \u001B[0;32m~/.pyenv/versions/mambaforge-4.10.1-4/envs/ih_DA_env/lib/python3.9/site-packages/pandas/core/generic.py:4311\u001B[0m, in \u001B[0;36mNDFrame._drop_axis\u001B[0;34m(self, labels, axis, level, errors, consolidate, only_slice)\u001B[0m\n\u001B[1;32m   4309\u001B[0m         new_axis \u001B[38;5;241m=\u001B[39m axis\u001B[38;5;241m.\u001B[39mdrop(labels, level\u001B[38;5;241m=\u001B[39mlevel, errors\u001B[38;5;241m=\u001B[39merrors)\n\u001B[1;32m   4310\u001B[0m     \u001B[38;5;28;01melse\u001B[39;00m:\n\u001B[0;32m-> 4311\u001B[0m         new_axis \u001B[38;5;241m=\u001B[39m \u001B[43maxis\u001B[49m\u001B[38;5;241;43m.\u001B[39;49m\u001B[43mdrop\u001B[49m\u001B[43m(\u001B[49m\u001B[43mlabels\u001B[49m\u001B[43m,\u001B[49m\u001B[43m \u001B[49m\u001B[43merrors\u001B[49m\u001B[38;5;241;43m=\u001B[39;49m\u001B[43merrors\u001B[49m\u001B[43m)\u001B[49m\n\u001B[1;32m   4312\u001B[0m     indexer \u001B[38;5;241m=\u001B[39m axis\u001B[38;5;241m.\u001B[39mget_indexer(new_axis)\n\u001B[1;32m   4314\u001B[0m \u001B[38;5;66;03m# Case for non-unique axis\u001B[39;00m\n\u001B[1;32m   4315\u001B[0m \u001B[38;5;28;01melse\u001B[39;00m:\n",
      "File \u001B[0;32m~/.pyenv/versions/mambaforge-4.10.1-4/envs/ih_DA_env/lib/python3.9/site-packages/pandas/core/indexes/base.py:6644\u001B[0m, in \u001B[0;36mIndex.drop\u001B[0;34m(self, labels, errors)\u001B[0m\n\u001B[1;32m   6642\u001B[0m \u001B[38;5;28;01mif\u001B[39;00m mask\u001B[38;5;241m.\u001B[39many():\n\u001B[1;32m   6643\u001B[0m     \u001B[38;5;28;01mif\u001B[39;00m errors \u001B[38;5;241m!=\u001B[39m \u001B[38;5;124m\"\u001B[39m\u001B[38;5;124mignore\u001B[39m\u001B[38;5;124m\"\u001B[39m:\n\u001B[0;32m-> 6644\u001B[0m         \u001B[38;5;28;01mraise\u001B[39;00m \u001B[38;5;167;01mKeyError\u001B[39;00m(\u001B[38;5;124mf\u001B[39m\u001B[38;5;124m\"\u001B[39m\u001B[38;5;132;01m{\u001B[39;00m\u001B[38;5;28mlist\u001B[39m(labels[mask])\u001B[38;5;132;01m}\u001B[39;00m\u001B[38;5;124m not found in axis\u001B[39m\u001B[38;5;124m\"\u001B[39m)\n\u001B[1;32m   6645\u001B[0m     indexer \u001B[38;5;241m=\u001B[39m indexer[\u001B[38;5;241m~\u001B[39mmask]\n\u001B[1;32m   6646\u001B[0m \u001B[38;5;28;01mreturn\u001B[39;00m \u001B[38;5;28mself\u001B[39m\u001B[38;5;241m.\u001B[39mdelete(indexer)\n",
      "\u001B[0;31mKeyError\u001B[0m: \"['Unnamed: 0'] not found in axis\""
     ]
    }
   ],
   "source": [
    "c_df.drop(labels=['Unnamed: 0'],axis=1,inplace=True) # drop the unnamed field"
   ],
   "metadata": {
    "collapsed": false,
    "pycharm": {
     "name": "#%%\n"
    }
   }
  },
  {
   "cell_type": "code",
   "execution_count": 9,
   "outputs": [],
   "source": [
    "numerics_df   = c_df.select_dtypes(include=np.number) # get numerical columns using the select_dtypes method\n",
    "cats_df       = c_df.select_dtypes(include=object)    # get non-numeric columns"
   ],
   "metadata": {
    "collapsed": false,
    "pycharm": {
     "name": "#%%\n"
    }
   }
  },
  {
   "cell_type": "markdown",
   "source": [
    "Remove outliers"
   ],
   "metadata": {
    "collapsed": false,
    "pycharm": {
     "name": "#%% md\n"
    }
   }
  },
  {
   "cell_type": "code",
   "execution_count": 10,
   "outputs": [
    {
     "data": {
      "text/plain": "8"
     },
     "execution_count": 10,
     "metadata": {},
     "output_type": "execute_result"
    }
   ],
   "source": [
    "len(numerics_df.columns)"
   ],
   "metadata": {
    "collapsed": false,
    "pycharm": {
     "name": "#%%\n"
    }
   }
  },
  {
   "cell_type": "code",
   "execution_count": 11,
   "outputs": [
    {
     "data": {
      "text/plain": "<Figure size 1800x360 with 6 Axes>",
      "image/png": "[encoded data removed]"
     },
     "metadata": {
      "needs_background": "light"
     },
     "output_type": "display_data"
    }
   ],
   "source": [
    "fig, ax = plt.subplots(1,6, figsize = (25,5))\n",
    "\n",
    "for i in range(1,7):\n",
    "    plt.subplot(1,6,i)\n",
    "    plt.boxplot(numerics_df.drop(['number_of_open_complaints','number_of_policies'],axis=1).iloc[:,i-1])\n",
    "    plt.title(f'{numerics_df.columns[i-1].upper()}')"
   ],
   "metadata": {
    "collapsed": false,
    "pycharm": {
     "name": "#%%\n"
    }
   }
  },
  {
   "cell_type": "code",
   "execution_count": 14,
   "outputs": [],
   "source": [
    "def outlier_mask(df):\n",
    "    \"\"\" returns a df of boolean values to used to index a trimmed table in the 1.5*IQR range\"\"\"\n",
    "    q1 = df.quantile(0.05)\n",
    "    q3 = df.quantile(0.95)\n",
    "    iqr = q3 - q1\n",
    "    return  ~((df < (q1 -  1.5*iqr)) |(df > (q3 + 1.5*iqr)))"
   ],
   "metadata": {
    "collapsed": false,
    "pycharm": {
     "name": "#%%\n"
    }
   }
  },
  {
   "cell_type": "code",
   "execution_count": 15,
   "outputs": [
    {
     "data": {
      "text/plain": "['customer_lifetime_value',\n 'income',\n 'monthly_premium_auto',\n 'months_since_last_claim',\n 'months_since_policy_inception',\n 'number_of_open_complaints',\n 'number_of_policies']"
     },
     "execution_count": 15,
     "metadata": {},
     "output_type": "execute_result"
    }
   ],
   "source": [
    "cols_to_trim = list(numerics_df.drop(['total_claim_amount'],axis=1).columns)\n",
    "cols_to_trim"
   ],
   "metadata": {
    "collapsed": false,
    "pycharm": {
     "name": "#%%\n"
    }
   }
  },
  {
   "cell_type": "code",
   "execution_count": 16,
   "outputs": [],
   "source": [
    "# boolean index list of \"inliers\"\n",
    "inliers = outlier_mask(numerics_df[cols_to_trim]).all(1)\n",
    "# select subset of the data\n",
    "numerics_df = numerics_df[inliers]"
   ],
   "metadata": {
    "collapsed": false,
    "pycharm": {
     "name": "#%%\n"
    }
   }
  },
  {
   "cell_type": "code",
   "execution_count": 19,
   "outputs": [
    {
     "data": {
      "text/plain": "0        True\n1        True\n2        True\n3        True\n4        True\n         ... \n10684    True\n10685    True\n10686    True\n10687    True\n10688    True\nLength: 10689, dtype: bool"
     },
     "execution_count": 19,
     "metadata": {},
     "output_type": "execute_result"
    }
   ],
   "source": [
    "inliers"
   ],
   "metadata": {
    "collapsed": false,
    "pycharm": {
     "name": "#%%\n"
    }
   }
  },
  {
   "cell_type": "code",
   "execution_count": 77,
   "outputs": [],
   "source": [
    "c_df = pd.concat([cats_df, numerics_df],axis=1)"
   ],
   "metadata": {
    "collapsed": false,
    "pycharm": {
     "name": "#%%\n"
    }
   }
  },
  {
   "cell_type": "code",
   "execution_count": 22,
   "outputs": [
    {
     "data": {
      "text/plain": "\u001B[1;36m0\u001B[0m column names have been cleaned\n",
      "text/html": "<pre style=\"white-space:pre;overflow-x:auto;line-height:normal;font-family:Menlo,'DejaVu Sans Mono',consolas,'Courier New',monospace\"><span style=\"color: #008080; text-decoration-color: #008080; font-weight: bold\">0</span> column names have been cleaned\n</pre>\n"
     },
     "metadata": {},
     "output_type": "display_data"
    }
   ],
   "source": [
    "clnr = Cleaner(c_df)"
   ],
   "metadata": {
    "collapsed": false,
    "pycharm": {
     "name": "#%%\n"
    }
   }
  },
  {
   "cell_type": "code",
   "execution_count": 23,
   "outputs": [],
   "source": [
    "clnr.impute_numerics()"
   ],
   "metadata": {
    "collapsed": false,
    "pycharm": {
     "name": "#%%\n"
    }
   }
  },
  {
   "cell_type": "code",
   "execution_count": 24,
   "outputs": [],
   "source": [
    "c_df = clnr.cdf"
   ],
   "metadata": {
    "collapsed": false,
    "pycharm": {
     "name": "#%%\n"
    }
   }
  },
  {
   "cell_type": "code",
   "execution_count": 25,
   "outputs": [],
   "source": [
    "X = c_df.drop(['total_claim_amount'],axis=1)\n",
    "y = c_df['total_claim_amount']"
   ],
   "metadata": {
    "collapsed": false,
    "pycharm": {
     "name": "#%%\n"
    }
   }
  },
  {
   "cell_type": "code",
   "execution_count": 26,
   "outputs": [
    {
     "data": {
      "text/plain": "(10689,)"
     },
     "execution_count": 26,
     "metadata": {},
     "output_type": "execute_result"
    }
   ],
   "source": [
    "y.shape"
   ],
   "metadata": {
    "collapsed": false,
    "pycharm": {
     "name": "#%%\n"
    }
   }
  },
  {
   "cell_type": "code",
   "execution_count": 27,
   "outputs": [
    {
     "data": {
      "text/plain": "region                           0\ncustomer_lifetime_value          0\nresponse                         0\ncoverage                         0\neducation                        0\neffective_to_date                0\nmonth                            0\nemployment_status                0\ngender                           0\nincome                           0\nlocation_code                    0\nmarital_status                   0\nmonthly_premium_auto             0\nmonths_since_last_claim          0\nmonths_since_policy_inception    0\nnumber_of_open_complaints        0\nnumber_of_policies               0\npolicy_type                      0\npolicy                           0\nrenew_offer_type                 0\nsales_channel                    0\ntotal_claim_amount               0\nvehicle_class                    0\nvehicle_size                     0\ndtype: int64"
     },
     "execution_count": 27,
     "metadata": {},
     "output_type": "execute_result"
    }
   ],
   "source": [
    "c_df.isnull().sum()"
   ],
   "metadata": {
    "collapsed": false,
    "pycharm": {
     "name": "#%%\n"
    }
   }
  },
  {
   "cell_type": "code",
   "execution_count": 30,
   "outputs": [
    {
     "ename": "KeyError",
     "evalue": "\"['effective_to_date'] not found in axis\"",
     "output_type": "error",
     "traceback": [
      "\u001B[0;31m---------------------------------------------------------------------------\u001B[0m",
      "\u001B[0;31mKeyError\u001B[0m                                  Traceback (most recent call last)",
      "Input \u001B[0;32mIn [30]\u001B[0m, in \u001B[0;36m<cell line: 1>\u001B[0;34m()\u001B[0m\n\u001B[0;32m----> 1\u001B[0m \u001B[43mX\u001B[49m\u001B[38;5;241;43m.\u001B[39;49m\u001B[43mdrop\u001B[49m\u001B[43m(\u001B[49m\u001B[43m[\u001B[49m\u001B[38;5;124;43m'\u001B[39;49m\u001B[38;5;124;43meffective_to_date\u001B[39;49m\u001B[38;5;124;43m'\u001B[39;49m\u001B[43m]\u001B[49m\u001B[43m,\u001B[49m\u001B[43maxis\u001B[49m\u001B[38;5;241;43m=\u001B[39;49m\u001B[38;5;241;43m1\u001B[39;49m\u001B[43m,\u001B[49m\u001B[43minplace\u001B[49m\u001B[38;5;241;43m=\u001B[39;49m\u001B[38;5;28;43;01mTrue\u001B[39;49;00m\u001B[43m)\u001B[49m\n",
      "File \u001B[0;32m~/.pyenv/versions/mambaforge-4.10.1-4/envs/ih_DA_env/lib/python3.9/site-packages/pandas/util/_decorators.py:311\u001B[0m, in \u001B[0;36mdeprecate_nonkeyword_arguments.<locals>.decorate.<locals>.wrapper\u001B[0;34m(*args, **kwargs)\u001B[0m\n\u001B[1;32m    305\u001B[0m \u001B[38;5;28;01mif\u001B[39;00m \u001B[38;5;28mlen\u001B[39m(args) \u001B[38;5;241m>\u001B[39m num_allow_args:\n\u001B[1;32m    306\u001B[0m     warnings\u001B[38;5;241m.\u001B[39mwarn(\n\u001B[1;32m    307\u001B[0m         msg\u001B[38;5;241m.\u001B[39mformat(arguments\u001B[38;5;241m=\u001B[39marguments),\n\u001B[1;32m    308\u001B[0m         \u001B[38;5;167;01mFutureWarning\u001B[39;00m,\n\u001B[1;32m    309\u001B[0m         stacklevel\u001B[38;5;241m=\u001B[39mstacklevel,\n\u001B[1;32m    310\u001B[0m     )\n\u001B[0;32m--> 311\u001B[0m \u001B[38;5;28;01mreturn\u001B[39;00m \u001B[43mfunc\u001B[49m\u001B[43m(\u001B[49m\u001B[38;5;241;43m*\u001B[39;49m\u001B[43margs\u001B[49m\u001B[43m,\u001B[49m\u001B[43m \u001B[49m\u001B[38;5;241;43m*\u001B[39;49m\u001B[38;5;241;43m*\u001B[39;49m\u001B[43mkwargs\u001B[49m\u001B[43m)\u001B[49m\n",
      "File \u001B[0;32m~/.pyenv/versions/mambaforge-4.10.1-4/envs/ih_DA_env/lib/python3.9/site-packages/pandas/core/frame.py:4954\u001B[0m, in \u001B[0;36mDataFrame.drop\u001B[0;34m(self, labels, axis, index, columns, level, inplace, errors)\u001B[0m\n\u001B[1;32m   4806\u001B[0m \u001B[38;5;129m@deprecate_nonkeyword_arguments\u001B[39m(version\u001B[38;5;241m=\u001B[39m\u001B[38;5;28;01mNone\u001B[39;00m, allowed_args\u001B[38;5;241m=\u001B[39m[\u001B[38;5;124m\"\u001B[39m\u001B[38;5;124mself\u001B[39m\u001B[38;5;124m\"\u001B[39m, \u001B[38;5;124m\"\u001B[39m\u001B[38;5;124mlabels\u001B[39m\u001B[38;5;124m\"\u001B[39m])\n\u001B[1;32m   4807\u001B[0m \u001B[38;5;28;01mdef\u001B[39;00m \u001B[38;5;21mdrop\u001B[39m(\n\u001B[1;32m   4808\u001B[0m     \u001B[38;5;28mself\u001B[39m,\n\u001B[0;32m   (...)\u001B[0m\n\u001B[1;32m   4815\u001B[0m     errors: \u001B[38;5;28mstr\u001B[39m \u001B[38;5;241m=\u001B[39m \u001B[38;5;124m\"\u001B[39m\u001B[38;5;124mraise\u001B[39m\u001B[38;5;124m\"\u001B[39m,\n\u001B[1;32m   4816\u001B[0m ):\n\u001B[1;32m   4817\u001B[0m     \u001B[38;5;124;03m\"\"\"\u001B[39;00m\n\u001B[1;32m   4818\u001B[0m \u001B[38;5;124;03m    Drop specified labels from rows or columns.\u001B[39;00m\n\u001B[1;32m   4819\u001B[0m \n\u001B[0;32m   (...)\u001B[0m\n\u001B[1;32m   4952\u001B[0m \u001B[38;5;124;03m            weight  1.0     0.8\u001B[39;00m\n\u001B[1;32m   4953\u001B[0m \u001B[38;5;124;03m    \"\"\"\u001B[39;00m\n\u001B[0;32m-> 4954\u001B[0m     \u001B[38;5;28;01mreturn\u001B[39;00m \u001B[38;5;28;43msuper\u001B[39;49m\u001B[43m(\u001B[49m\u001B[43m)\u001B[49m\u001B[38;5;241;43m.\u001B[39;49m\u001B[43mdrop\u001B[49m\u001B[43m(\u001B[49m\n\u001B[1;32m   4955\u001B[0m \u001B[43m        \u001B[49m\u001B[43mlabels\u001B[49m\u001B[38;5;241;43m=\u001B[39;49m\u001B[43mlabels\u001B[49m\u001B[43m,\u001B[49m\n\u001B[1;32m   4956\u001B[0m \u001B[43m        \u001B[49m\u001B[43maxis\u001B[49m\u001B[38;5;241;43m=\u001B[39;49m\u001B[43maxis\u001B[49m\u001B[43m,\u001B[49m\n\u001B[1;32m   4957\u001B[0m \u001B[43m        \u001B[49m\u001B[43mindex\u001B[49m\u001B[38;5;241;43m=\u001B[39;49m\u001B[43mindex\u001B[49m\u001B[43m,\u001B[49m\n\u001B[1;32m   4958\u001B[0m \u001B[43m        \u001B[49m\u001B[43mcolumns\u001B[49m\u001B[38;5;241;43m=\u001B[39;49m\u001B[43mcolumns\u001B[49m\u001B[43m,\u001B[49m\n\u001B[1;32m   4959\u001B[0m \u001B[43m        \u001B[49m\u001B[43mlevel\u001B[49m\u001B[38;5;241;43m=\u001B[39;49m\u001B[43mlevel\u001B[49m\u001B[43m,\u001B[49m\n\u001B[1;32m   4960\u001B[0m \u001B[43m        \u001B[49m\u001B[43minplace\u001B[49m\u001B[38;5;241;43m=\u001B[39;49m\u001B[43minplace\u001B[49m\u001B[43m,\u001B[49m\n\u001B[1;32m   4961\u001B[0m \u001B[43m        \u001B[49m\u001B[43merrors\u001B[49m\u001B[38;5;241;43m=\u001B[39;49m\u001B[43merrors\u001B[49m\u001B[43m,\u001B[49m\n\u001B[1;32m   4962\u001B[0m \u001B[43m    \u001B[49m\u001B[43m)\u001B[49m\n",
      "File \u001B[0;32m~/.pyenv/versions/mambaforge-4.10.1-4/envs/ih_DA_env/lib/python3.9/site-packages/pandas/core/generic.py:4267\u001B[0m, in \u001B[0;36mNDFrame.drop\u001B[0;34m(self, labels, axis, index, columns, level, inplace, errors)\u001B[0m\n\u001B[1;32m   4265\u001B[0m \u001B[38;5;28;01mfor\u001B[39;00m axis, labels \u001B[38;5;129;01min\u001B[39;00m axes\u001B[38;5;241m.\u001B[39mitems():\n\u001B[1;32m   4266\u001B[0m     \u001B[38;5;28;01mif\u001B[39;00m labels \u001B[38;5;129;01mis\u001B[39;00m \u001B[38;5;129;01mnot\u001B[39;00m \u001B[38;5;28;01mNone\u001B[39;00m:\n\u001B[0;32m-> 4267\u001B[0m         obj \u001B[38;5;241m=\u001B[39m \u001B[43mobj\u001B[49m\u001B[38;5;241;43m.\u001B[39;49m\u001B[43m_drop_axis\u001B[49m\u001B[43m(\u001B[49m\u001B[43mlabels\u001B[49m\u001B[43m,\u001B[49m\u001B[43m \u001B[49m\u001B[43maxis\u001B[49m\u001B[43m,\u001B[49m\u001B[43m \u001B[49m\u001B[43mlevel\u001B[49m\u001B[38;5;241;43m=\u001B[39;49m\u001B[43mlevel\u001B[49m\u001B[43m,\u001B[49m\u001B[43m \u001B[49m\u001B[43merrors\u001B[49m\u001B[38;5;241;43m=\u001B[39;49m\u001B[43merrors\u001B[49m\u001B[43m)\u001B[49m\n\u001B[1;32m   4269\u001B[0m \u001B[38;5;28;01mif\u001B[39;00m inplace:\n\u001B[1;32m   4270\u001B[0m     \u001B[38;5;28mself\u001B[39m\u001B[38;5;241m.\u001B[39m_update_inplace(obj)\n",
      "File \u001B[0;32m~/.pyenv/versions/mambaforge-4.10.1-4/envs/ih_DA_env/lib/python3.9/site-packages/pandas/core/generic.py:4311\u001B[0m, in \u001B[0;36mNDFrame._drop_axis\u001B[0;34m(self, labels, axis, level, errors, consolidate, only_slice)\u001B[0m\n\u001B[1;32m   4309\u001B[0m         new_axis \u001B[38;5;241m=\u001B[39m axis\u001B[38;5;241m.\u001B[39mdrop(labels, level\u001B[38;5;241m=\u001B[39mlevel, errors\u001B[38;5;241m=\u001B[39merrors)\n\u001B[1;32m   4310\u001B[0m     \u001B[38;5;28;01melse\u001B[39;00m:\n\u001B[0;32m-> 4311\u001B[0m         new_axis \u001B[38;5;241m=\u001B[39m \u001B[43maxis\u001B[49m\u001B[38;5;241;43m.\u001B[39;49m\u001B[43mdrop\u001B[49m\u001B[43m(\u001B[49m\u001B[43mlabels\u001B[49m\u001B[43m,\u001B[49m\u001B[43m \u001B[49m\u001B[43merrors\u001B[49m\u001B[38;5;241;43m=\u001B[39;49m\u001B[43merrors\u001B[49m\u001B[43m)\u001B[49m\n\u001B[1;32m   4312\u001B[0m     indexer \u001B[38;5;241m=\u001B[39m axis\u001B[38;5;241m.\u001B[39mget_indexer(new_axis)\n\u001B[1;32m   4314\u001B[0m \u001B[38;5;66;03m# Case for non-unique axis\u001B[39;00m\n\u001B[1;32m   4315\u001B[0m \u001B[38;5;28;01melse\u001B[39;00m:\n",
      "File \u001B[0;32m~/.pyenv/versions/mambaforge-4.10.1-4/envs/ih_DA_env/lib/python3.9/site-packages/pandas/core/indexes/base.py:6644\u001B[0m, in \u001B[0;36mIndex.drop\u001B[0;34m(self, labels, errors)\u001B[0m\n\u001B[1;32m   6642\u001B[0m \u001B[38;5;28;01mif\u001B[39;00m mask\u001B[38;5;241m.\u001B[39many():\n\u001B[1;32m   6643\u001B[0m     \u001B[38;5;28;01mif\u001B[39;00m errors \u001B[38;5;241m!=\u001B[39m \u001B[38;5;124m\"\u001B[39m\u001B[38;5;124mignore\u001B[39m\u001B[38;5;124m\"\u001B[39m:\n\u001B[0;32m-> 6644\u001B[0m         \u001B[38;5;28;01mraise\u001B[39;00m \u001B[38;5;167;01mKeyError\u001B[39;00m(\u001B[38;5;124mf\u001B[39m\u001B[38;5;124m\"\u001B[39m\u001B[38;5;132;01m{\u001B[39;00m\u001B[38;5;28mlist\u001B[39m(labels[mask])\u001B[38;5;132;01m}\u001B[39;00m\u001B[38;5;124m not found in axis\u001B[39m\u001B[38;5;124m\"\u001B[39m)\n\u001B[1;32m   6645\u001B[0m     indexer \u001B[38;5;241m=\u001B[39m indexer[\u001B[38;5;241m~\u001B[39mmask]\n\u001B[1;32m   6646\u001B[0m \u001B[38;5;28;01mreturn\u001B[39;00m \u001B[38;5;28mself\u001B[39m\u001B[38;5;241m.\u001B[39mdelete(indexer)\n",
      "\u001B[0;31mKeyError\u001B[0m: \"['effective_to_date'] not found in axis\""
     ]
    }
   ],
   "source": [
    "X.drop(['effective_to_date'],axis=1,inplace=True)"
   ],
   "metadata": {
    "collapsed": false,
    "pycharm": {
     "name": "#%%\n"
    }
   }
  },
  {
   "cell_type": "code",
   "execution_count": 31,
   "outputs": [],
   "source": [
    "TEST_SIZE = 0.30\n",
    "RANDOM_STATE = 32 # reproduce the same results. disables randomization"
   ],
   "metadata": {
    "collapsed": false,
    "pycharm": {
     "name": "#%%\n"
    }
   }
  },
  {
   "cell_type": "markdown",
   "source": [
    "## Linear Regression Model"
   ],
   "metadata": {
    "collapsed": false,
    "pycharm": {
     "name": "#%% md\n"
    }
   }
  },
  {
   "cell_type": "code",
   "execution_count": 34,
   "outputs": [],
   "source": [
    "X_train, X_test, y_train, y_test = train_test_split(X, y, test_size=TEST_SIZE,random_state=RANDOM_STATE)"
   ],
   "metadata": {
    "collapsed": false,
    "pycharm": {
     "name": "#%%\n"
    }
   }
  },
  {
   "cell_type": "code",
   "execution_count": 35,
   "outputs": [
    {
     "name": "stdout",
     "output_type": "stream",
     "text": [
      "<class 'pandas.core.frame.DataFrame'>\n",
      "Int64Index: 3207 entries, 6003 to 7247\n",
      "Data columns (total 22 columns):\n",
      " #   Column                         Non-Null Count  Dtype \n",
      "---  ------                         --------------  ----- \n",
      " 0   region                         3207 non-null   object\n",
      " 1   customer_lifetime_value        3207 non-null   int64 \n",
      " 2   response                       3207 non-null   object\n",
      " 3   coverage                       3207 non-null   object\n",
      " 4   education                      3207 non-null   object\n",
      " 5   month                          3207 non-null   object\n",
      " 6   employment_status              3207 non-null   object\n",
      " 7   gender                         3207 non-null   object\n",
      " 8   income                         3207 non-null   int64 \n",
      " 9   location_code                  3207 non-null   object\n",
      " 10  marital_status                 3207 non-null   object\n",
      " 11  monthly_premium_auto           3207 non-null   int64 \n",
      " 12  months_since_last_claim        3207 non-null   int64 \n",
      " 13  months_since_policy_inception  3207 non-null   int64 \n",
      " 14  number_of_open_complaints      3207 non-null   int64 \n",
      " 15  number_of_policies             3207 non-null   int64 \n",
      " 16  policy_type                    3207 non-null   object\n",
      " 17  policy                         3207 non-null   object\n",
      " 18  renew_offer_type               3207 non-null   object\n",
      " 19  sales_channel                  3207 non-null   object\n",
      " 20  vehicle_class                  3207 non-null   object\n",
      " 21  vehicle_size                   3207 non-null   object\n",
      "dtypes: int64(7), object(15)\n",
      "memory usage: 576.3+ KB\n"
     ]
    }
   ],
   "source": [
    "X_test.info()"
   ],
   "metadata": {
    "collapsed": false,
    "pycharm": {
     "name": "#%%\n"
    }
   }
  },
  {
   "cell_type": "code",
   "execution_count": 36,
   "outputs": [],
   "source": [
    "cols_to_hot_encode = ['gender', 'marital_status', 'month', 'response', 'region', 'vehicle_class', 'renew_offer_type', 'policy_type', 'policy', 'location_code', 'sales_channel', 'coverage', 'education', 'employment_status', 'vehicle_size','vehicle_size']\n"
   ],
   "metadata": {
    "collapsed": false,
    "pycharm": {
     "name": "#%%\n"
    }
   }
  },
  {
   "cell_type": "code",
   "execution_count": 37,
   "outputs": [],
   "source": [
    "cols_to_standardize = ['customer_lifetime_value','income','monthly_premium_auto']"
   ],
   "metadata": {
    "collapsed": false,
    "pycharm": {
     "name": "#%%\n"
    }
   }
  },
  {
   "cell_type": "code",
   "execution_count": 39,
   "outputs": [
    {
     "data": {
      "text/plain": "ColumnTransformer(remainder='passthrough',\n                  transformers=[('standardize', StandardScaler(),\n                                 ['customer_lifetime_value', 'income',\n                                  'monthly_premium_auto']),\n                                ('encode', OneHotEncoder(),\n                                 ['gender', 'marital_status', 'month',\n                                  'response', 'region', 'vehicle_class',\n                                  'renew_offer_type', 'policy_type', 'policy',\n                                  'location_code', 'sales_channel', 'coverage',\n                                  'education', 'employment_status',\n                                  'vehicle_size', 'vehicle_size'])])",
      "text/html": "<style>#sk-container-id-2 {color: black;background-color: white;}#sk-container-id-2 pre{padding: 0;}#sk-container-id-2 div.sk-toggleable {background-color: white;}#sk-container-id-2 label.sk-toggleable__label {cursor: pointer;display: block;width: 100%;margin-bottom: 0;padding: 0.3em;box-sizing: border-box;text-align: center;}#sk-container-id-2 label.sk-toggleable__label-arrow:before {content: \"▸\";float: left;margin-right: 0.25em;color: #696969;}#sk-container-id-2 label.sk-toggleable__label-arrow:hover:before {color: black;}#sk-container-id-2 div.sk-estimator:hover label.sk-toggleable__label-arrow:before {color: black;}#sk-container-id-2 div.sk-toggleable__content {max-height: 0;max-width: 0;overflow: hidden;text-align: left;background-color: #f0f8ff;}#sk-container-id-2 div.sk-toggleable__content pre {margin: 0.2em;color: black;border-radius: 0.25em;background-color: #f0f8ff;}#sk-container-id-2 input.sk-toggleable__control:checked~div.sk-toggleable__content {max-height: 200px;max-width: 100%;overflow: auto;}#sk-container-id-2 input.sk-toggleable__control:checked~label.sk-toggleable__label-arrow:before {content: \"▾\";}#sk-container-id-2 div.sk-estimator input.sk-toggleable__control:checked~label.sk-toggleable__label {background-color: #d4ebff;}#sk-container-id-2 div.sk-label input.sk-toggleable__control:checked~label.sk-toggleable__label {background-color: #d4ebff;}#sk-container-id-2 input.sk-hidden--visually {border: 0;clip: rect(1px 1px 1px 1px);clip: rect(1px, 1px, 1px, 1px);height: 1px;margin: -1px;overflow: hidden;padding: 0;position: absolute;width: 1px;}#sk-container-id-2 div.sk-estimator {font-family: monospace;background-color: #f0f8ff;border: 1px dotted black;border-radius: 0.25em;box-sizing: border-box;margin-bottom: 0.5em;}#sk-container-id-2 div.sk-estimator:hover {background-color: #d4ebff;}#sk-container-id-2 div.sk-parallel-item::after {content: \"\";width: 100%;border-bottom: 1px solid gray;flex-grow: 1;}#sk-container-id-2 div.sk-label:hover label.sk-toggleable__label {background-color: #d4ebff;}#sk-container-id-2 div.sk-serial::before {content: \"\";position: absolute;border-left: 1px solid gray;box-sizing: border-box;top: 0;bottom: 0;left: 50%;z-index: 0;}#sk-container-id-2 div.sk-serial {display: flex;flex-direction: column;align-items: center;background-color: white;padding-right: 0.2em;padding-left: 0.2em;position: relative;}#sk-container-id-2 div.sk-item {position: relative;z-index: 1;}#sk-container-id-2 div.sk-parallel {display: flex;align-items: stretch;justify-content: center;background-color: white;position: relative;}#sk-container-id-2 div.sk-item::before, #sk-container-id-2 div.sk-parallel-item::before {content: \"\";position: absolute;border-left: 1px solid gray;box-sizing: border-box;top: 0;bottom: 0;left: 50%;z-index: -1;}#sk-container-id-2 div.sk-parallel-item {display: flex;flex-direction: column;z-index: 1;position: relative;background-color: white;}#sk-container-id-2 div.sk-parallel-item:first-child::after {align-self: flex-end;width: 50%;}#sk-container-id-2 div.sk-parallel-item:last-child::after {align-self: flex-start;width: 50%;}#sk-container-id-2 div.sk-parallel-item:only-child::after {width: 0;}#sk-container-id-2 div.sk-dashed-wrapped {border: 1px dashed gray;margin: 0 0.4em 0.5em 0.4em;box-sizing: border-box;padding-bottom: 0.4em;background-color: white;}#sk-container-id-2 div.sk-label label {font-family: monospace;font-weight: bold;display: inline-block;line-height: 1.2em;}#sk-container-id-2 div.sk-label-container {text-align: center;}#sk-container-id-2 div.sk-container {/* jupyter's `normalize.less` sets `[hidden] { display: none; }` but bootstrap.min.css set `[hidden] { display: none !important; }` so we also need the `!important` here to be able to override the default hidden behavior on the sphinx rendered scikit-learn.org. See: https://github.com/scikit-learn/scikit-learn/issues/21755 */display: inline-block !important;position: relative;}#sk-container-id-2 div.sk-text-repr-fallback {display: none;}</style><div id=\"sk-container-id-2\" class=\"sk-top-container\"><div class=\"sk-text-repr-fallback\"><pre>ColumnTransformer(remainder=&#x27;passthrough&#x27;,\n                  transformers=[(&#x27;standardize&#x27;, StandardScaler(),\n                                 [&#x27;customer_lifetime_value&#x27;, &#x27;income&#x27;,\n                                  &#x27;monthly_premium_auto&#x27;]),\n                                (&#x27;encode&#x27;, OneHotEncoder(),\n                                 [&#x27;gender&#x27;, &#x27;marital_status&#x27;, &#x27;month&#x27;,\n                                  &#x27;response&#x27;, &#x27;region&#x27;, &#x27;vehicle_class&#x27;,\n                                  &#x27;renew_offer_type&#x27;, &#x27;policy_type&#x27;, &#x27;policy&#x27;,\n                                  &#x27;location_code&#x27;, &#x27;sales_channel&#x27;, &#x27;coverage&#x27;,\n                                  &#x27;education&#x27;, &#x27;employment_status&#x27;,\n                                  &#x27;vehicle_size&#x27;, &#x27;vehicle_size&#x27;])])</pre><b>In a Jupyter environment, please rerun this cell to show the HTML representation or trust the notebook. <br />On GitHub, the HTML representation is unable to render, please try loading this page with nbviewer.org.</b></div><div class=\"sk-container\" hidden><div class=\"sk-item sk-dashed-wrapped\"><div class=\"sk-label-container\"><div class=\"sk-label sk-toggleable\"><input class=\"sk-toggleable__control sk-hidden--visually\" id=\"sk-estimator-id-8\" type=\"checkbox\" ><label for=\"sk-estimator-id-8\" class=\"sk-toggleable__label sk-toggleable__label-arrow\">ColumnTransformer</label><div class=\"sk-toggleable__content\"><pre>ColumnTransformer(remainder=&#x27;passthrough&#x27;,\n                  transformers=[(&#x27;standardize&#x27;, StandardScaler(),\n                                 [&#x27;customer_lifetime_value&#x27;, &#x27;income&#x27;,\n                                  &#x27;monthly_premium_auto&#x27;]),\n                                (&#x27;encode&#x27;, OneHotEncoder(),\n                                 [&#x27;gender&#x27;, &#x27;marital_status&#x27;, &#x27;month&#x27;,\n                                  &#x27;response&#x27;, &#x27;region&#x27;, &#x27;vehicle_class&#x27;,\n                                  &#x27;renew_offer_type&#x27;, &#x27;policy_type&#x27;, &#x27;policy&#x27;,\n                                  &#x27;location_code&#x27;, &#x27;sales_channel&#x27;, &#x27;coverage&#x27;,\n                                  &#x27;education&#x27;, &#x27;employment_status&#x27;,\n                                  &#x27;vehicle_size&#x27;, &#x27;vehicle_size&#x27;])])</pre></div></div></div><div class=\"sk-parallel\"><div class=\"sk-parallel-item\"><div class=\"sk-item\"><div class=\"sk-label-container\"><div class=\"sk-label sk-toggleable\"><input class=\"sk-toggleable__control sk-hidden--visually\" id=\"sk-estimator-id-9\" type=\"checkbox\" ><label for=\"sk-estimator-id-9\" class=\"sk-toggleable__label sk-toggleable__label-arrow\">standardize</label><div class=\"sk-toggleable__content\"><pre>[&#x27;customer_lifetime_value&#x27;, &#x27;income&#x27;, &#x27;monthly_premium_auto&#x27;]</pre></div></div></div><div class=\"sk-serial\"><div class=\"sk-item\"><div class=\"sk-estimator sk-toggleable\"><input class=\"sk-toggleable__control sk-hidden--visually\" id=\"sk-estimator-id-10\" type=\"checkbox\" ><label for=\"sk-estimator-id-10\" class=\"sk-toggleable__label sk-toggleable__label-arrow\">StandardScaler</label><div class=\"sk-toggleable__content\"><pre>StandardScaler()</pre></div></div></div></div></div></div><div class=\"sk-parallel-item\"><div class=\"sk-item\"><div class=\"sk-label-container\"><div class=\"sk-label sk-toggleable\"><input class=\"sk-toggleable__control sk-hidden--visually\" id=\"sk-estimator-id-11\" type=\"checkbox\" ><label for=\"sk-estimator-id-11\" class=\"sk-toggleable__label sk-toggleable__label-arrow\">encode</label><div class=\"sk-toggleable__content\"><pre>[&#x27;gender&#x27;, &#x27;marital_status&#x27;, &#x27;month&#x27;, &#x27;response&#x27;, &#x27;region&#x27;, &#x27;vehicle_class&#x27;, &#x27;renew_offer_type&#x27;, &#x27;policy_type&#x27;, &#x27;policy&#x27;, &#x27;location_code&#x27;, &#x27;sales_channel&#x27;, &#x27;coverage&#x27;, &#x27;education&#x27;, &#x27;employment_status&#x27;, &#x27;vehicle_size&#x27;, &#x27;vehicle_size&#x27;]</pre></div></div></div><div class=\"sk-serial\"><div class=\"sk-item\"><div class=\"sk-estimator sk-toggleable\"><input class=\"sk-toggleable__control sk-hidden--visually\" id=\"sk-estimator-id-12\" type=\"checkbox\" ><label for=\"sk-estimator-id-12\" class=\"sk-toggleable__label sk-toggleable__label-arrow\">OneHotEncoder</label><div class=\"sk-toggleable__content\"><pre>OneHotEncoder()</pre></div></div></div></div></div></div><div class=\"sk-parallel-item\"><div class=\"sk-item\"><div class=\"sk-label-container\"><div class=\"sk-label sk-toggleable\"><input class=\"sk-toggleable__control sk-hidden--visually\" id=\"sk-estimator-id-13\" type=\"checkbox\" ><label for=\"sk-estimator-id-13\" class=\"sk-toggleable__label sk-toggleable__label-arrow\">remainder</label><div class=\"sk-toggleable__content\"><pre>[&#x27;months_since_last_claim&#x27;, &#x27;months_since_policy_inception&#x27;, &#x27;number_of_open_complaints&#x27;, &#x27;number_of_policies&#x27;]</pre></div></div></div><div class=\"sk-serial\"><div class=\"sk-item\"><div class=\"sk-estimator sk-toggleable\"><input class=\"sk-toggleable__control sk-hidden--visually\" id=\"sk-estimator-id-14\" type=\"checkbox\" ><label for=\"sk-estimator-id-14\" class=\"sk-toggleable__label sk-toggleable__label-arrow\">passthrough</label><div class=\"sk-toggleable__content\"><pre>passthrough</pre></div></div></div></div></div></div></div></div></div></div>"
     },
     "execution_count": 39,
     "metadata": {},
     "output_type": "execute_result"
    }
   ],
   "source": [
    "transformer = ColumnTransformer([\n",
    "    ('standardize', StandardScaler(), cols_to_standardize),\n",
    "    ('encode', OneHotEncoder(), cols_to_hot_encode)\n",
    "], remainder = 'passthrough', verbose_feature_names_out=True)\n",
    "\n",
    "transformer.fit(X_train)"
   ],
   "metadata": {
    "collapsed": false,
    "pycharm": {
     "name": "#%%col_names_standardize = cols[:-num_to_enc]col_names_standardize = cols[:# transform the data for use in distance based modeling algorithms [logistic regression]\n"
    }
   }
  },
  {
   "cell_type": "code",
   "execution_count": 40,
   "outputs": [
    {
     "data": {
      "text/plain": "array(['standardize__customer_lifetime_value', 'standardize__income',\n       'standardize__monthly_premium_auto', 'encode__gender_f',\n       'encode__gender_m', 'encode__marital_status_divorced',\n       'encode__marital_status_married', 'encode__marital_status_single',\n       'encode__month_feb', 'encode__month_jan', 'encode__response_no',\n       'encode__response_yes', 'encode__region_central',\n       'encode__region_east', 'encode__region_north west',\n       'encode__region_west region',\n       'encode__vehicle_class_four-door car',\n       'encode__vehicle_class_luxury car',\n       'encode__vehicle_class_luxury suv',\n       'encode__vehicle_class_sports car', 'encode__vehicle_class_suv',\n       'encode__vehicle_class_two-door car',\n       'encode__renew_offer_type_offer1',\n       'encode__renew_offer_type_offer2',\n       'encode__renew_offer_type_offer3',\n       'encode__renew_offer_type_offer4',\n       'encode__policy_type_corporate auto',\n       'encode__policy_type_personal auto',\n       'encode__policy_type_special auto', 'encode__policy_corporate l1',\n       'encode__policy_corporate l2', 'encode__policy_corporate l3',\n       'encode__policy_personal l1', 'encode__policy_personal l2',\n       'encode__policy_personal l3', 'encode__policy_special l1',\n       'encode__policy_special l2', 'encode__policy_special l3',\n       'encode__location_code_rural', 'encode__location_code_suburban',\n       'encode__location_code_urban', 'encode__sales_channel_agent',\n       'encode__sales_channel_branch',\n       'encode__sales_channel_call center', 'encode__sales_channel_web',\n       'encode__coverage_basic', 'encode__coverage_extended',\n       'encode__coverage_premium', 'encode__education_bachelor',\n       'encode__education_college', 'encode__education_doctor',\n       'encode__education_high school or below',\n       'encode__education_master', 'encode__employment_status_disabled',\n       'encode__employment_status_employed',\n       'encode__employment_status_medical leave',\n       'encode__employment_status_retired',\n       'encode__employment_status_unemployed',\n       'encode__vehicle_size_large', 'encode__vehicle_size_medsize',\n       'encode__vehicle_size_small', 'encode__vehicle_size_large',\n       'encode__vehicle_size_medsize', 'encode__vehicle_size_small',\n       'remainder__months_since_last_claim',\n       'remainder__months_since_policy_inception',\n       'remainder__number_of_open_complaints',\n       'remainder__number_of_policies'], dtype=object)"
     },
     "execution_count": 40,
     "metadata": {},
     "output_type": "execute_result"
    }
   ],
   "source": [
    "transformer.get_feature_names_out()"
   ],
   "metadata": {
    "collapsed": false,
    "pycharm": {
     "name": "#%%\n"
    }
   }
  },
  {
   "cell_type": "code",
   "execution_count": 63,
   "outputs": [
    {
     "data": {
      "text/plain": "array(['region', 'customer_lifetime_value', 'response', 'coverage',\n       'education', 'month', 'employment_status', 'gender', 'income',\n       'location_code', 'marital_status', 'monthly_premium_auto',\n       'months_since_last_claim', 'months_since_policy_inception',\n       'number_of_open_complaints', 'number_of_policies', 'policy_type',\n       'policy', 'renew_offer_type', 'sales_channel', 'vehicle_class',\n       'vehicle_size'], dtype=object)"
     },
     "execution_count": 63,
     "metadata": {},
     "output_type": "execute_result"
    }
   ],
   "source": [
    "transformer.feature_names_in_"
   ],
   "metadata": {
    "collapsed": false,
    "pycharm": {
     "name": "#%%\n"
    }
   }
  },
  {
   "cell_type": "code",
   "execution_count": 41,
   "outputs": [],
   "source": [
    "# std. transformed and encoded variables (np arrays)\n",
    "X_train_e = transformer.transform(X_train)\n",
    "X_test_e  = transformer.transform(X_test)"
   ],
   "metadata": {
    "collapsed": false,
    "pycharm": {
     "name": "#%%\n"
    }
   }
  },
  {
   "cell_type": "code",
   "execution_count": 44,
   "outputs": [
    {
     "data": {
      "text/plain": "numpy.ndarray"
     },
     "execution_count": 44,
     "metadata": {},
     "output_type": "execute_result"
    }
   ],
   "source": [
    "type(X_train_e)"
   ],
   "metadata": {
    "collapsed": false,
    "pycharm": {
     "name": "#%%\n"
    }
   }
  },
  {
   "cell_type": "code",
   "execution_count": 43,
   "outputs": [],
   "source": [
    "X_train_e_df = pd.DataFrame(X_train_e,columns=transformer.get_feature_names_out())\n",
    "X_test_e_df = pd.DataFrame(X_test_e,columns=transformer.get_feature_names_out())"
   ],
   "metadata": {
    "collapsed": false,
    "pycharm": {
     "name": "#%%\n"
    }
   }
  },
  {
   "cell_type": "code",
   "execution_count": 93,
   "outputs": [],
   "source": [],
   "metadata": {
    "collapsed": false,
    "pycharm": {
     "name": "#%%\n"
    }
   }
  },
  {
   "cell_type": "code",
   "execution_count": 57,
   "outputs": [],
   "source": [
    "model = LinearRegression()          # model\n",
    "model.fit(X_train_e, y_train)   # model train\n",
    "y_pred       = model.predict(X_test_e)   # model prediction [test]\n",
    "y_pred_train = model.predict(X_train_e)  # model prediction [train]\n",
    "result = pd.DataFrame({\"y_test\":y_test,\"y_pred\":y_pred})"
   ],
   "metadata": {
    "collapsed": false,
    "pycharm": {
     "name": "#%%\n"
    }
   }
  },
  {
   "cell_type": "code",
   "execution_count": 47,
   "outputs": [
    {
     "data": {
      "text/plain": "[<matplotlib.lines.Line2D at 0x1660dbdf0>]"
     },
     "execution_count": 47,
     "metadata": {},
     "output_type": "execute_result"
    },
    {
     "data": {
      "text/plain": "<Figure size 1008x288 with 3 Axes>",
      "image/png": "[encoded data removed]"
     },
     "metadata": {
      "needs_background": "light"
     },
     "output_type": "display_data"
    }
   ],
   "source": [
    "fig, ax = plt.subplots(1,3,figsize=(14,4))\n",
    "ax[0].plot(y_pred, y_test, 'o')\n",
    "ax[0].set_xlabel(\"y_test\")\n",
    "ax[0].set_ylabel(\"y_pred\")\n",
    "ax[0].set_title(\"Test Set -Predicted vs real\")\n",
    "\n",
    "# Get a histogram of the residuals ie: y - y_pred.  Homoscdasticity\n",
    "# It resembles a normal distribution?\n",
    "ax[1].hist(y_test - y_pred)\n",
    "ax[1].set_xlabel(\"Test y-y_pred\")\n",
    "ax[1].set_title(\"Test Set Residual histogram\")\n",
    "\n",
    "ax[2].plot(y_pred,y_test - y_pred,\"o\")\n",
    "ax[2].set_xlabel(\"predited\")\n",
    "ax[2].set_ylabel(\"residuals\")\n",
    "ax[2].set_title(\"Residuals by Predicted\")\n",
    "ax[2].plot(y_pred,np.zeros(len(y_pred)),linestyle='dashed')"
   ],
   "metadata": {
    "collapsed": false,
    "pycharm": {
     "name": "#%%\n"
    }
   }
  },
  {
   "cell_type": "code",
   "execution_count": 48,
   "outputs": [
    {
     "data": {
      "text/plain": "<AxesSubplot:xlabel='y_pred', ylabel='y_test'>"
     },
     "execution_count": 48,
     "metadata": {},
     "output_type": "execute_result"
    },
    {
     "data": {
      "text/plain": "<Figure size 432x288 with 1 Axes>",
      "image/png": "[encoded data removed]"
     },
     "metadata": {
      "needs_background": "light"
     },
     "output_type": "display_data"
    }
   ],
   "source": [
    "sns.regplot(x='y_pred',y='y_test', data=result, scatter_kws={\"color\": \"red\"}, line_kws={\"color\": \"black\"})"
   ],
   "metadata": {
    "collapsed": false,
    "pycharm": {
     "name": "#%%\n"
    }
   }
  },
  {
   "cell_type": "code",
   "execution_count": 49,
   "outputs": [
    {
     "data": {
      "text/plain": "0.7741219975353343"
     },
     "execution_count": 49,
     "metadata": {},
     "output_type": "execute_result"
    }
   ],
   "source": [
    "r2_score(y_test,y_pred)"
   ],
   "metadata": {
    "collapsed": false,
    "pycharm": {
     "name": "#%%\n"
    }
   }
  },
  {
   "cell_type": "code",
   "execution_count": 51,
   "outputs": [
    {
     "data": {
      "text/plain": "                                   Attribute    Importance\n3                           encode__gender_f  1.507131e+13\n4                           encode__gender_m  1.507131e+13\n17          encode__vehicle_class_luxury car  8.284727e+11\n21        encode__vehicle_class_two-door car  8.284727e+11\n16       encode__vehicle_class_four-door car  8.284727e+11\n..                                       ...           ...\n0       standardize__customer_lifetime_value  1.293282e+00\n67             remainder__number_of_policies  5.078125e-01\n64        remainder__months_since_last_claim  3.515625e-01\n66      remainder__number_of_open_complaints  4.495239e-02\n65  remainder__months_since_policy_inception  3.955078e-02\n\n[68 rows x 2 columns]",
      "text/html": "<div>\n<style scoped>\n    .dataframe tbody tr th:only-of-type {\n        vertical-align: middle;\n    }\n\n    .dataframe tbody tr th {\n        vertical-align: top;\n    }\n\n    .dataframe thead th {\n        text-align: right;\n    }\n</style>\n<table border=\"1\" class=\"dataframe\">\n  <thead>\n    <tr style=\"text-align: right;\">\n      <th></th>\n      <th>Attribute</th>\n      <th>Importance</th>\n    </tr>\n  </thead>\n  <tbody>\n    <tr>\n      <th>3</th>\n      <td>encode__gender_f</td>\n      <td>1.507131e+13</td>\n    </tr>\n    <tr>\n      <th>4</th>\n      <td>encode__gender_m</td>\n      <td>1.507131e+13</td>\n    </tr>\n    <tr>\n      <th>17</th>\n      <td>encode__vehicle_class_luxury car</td>\n      <td>8.284727e+11</td>\n    </tr>\n    <tr>\n      <th>21</th>\n      <td>encode__vehicle_class_two-door car</td>\n      <td>8.284727e+11</td>\n    </tr>\n    <tr>\n      <th>16</th>\n      <td>encode__vehicle_class_four-door car</td>\n      <td>8.284727e+11</td>\n    </tr>\n    <tr>\n      <th>...</th>\n      <td>...</td>\n      <td>...</td>\n    </tr>\n    <tr>\n      <th>0</th>\n      <td>standardize__customer_lifetime_value</td>\n      <td>1.293282e+00</td>\n    </tr>\n    <tr>\n      <th>67</th>\n      <td>remainder__number_of_policies</td>\n      <td>5.078125e-01</td>\n    </tr>\n    <tr>\n      <th>64</th>\n      <td>remainder__months_since_last_claim</td>\n      <td>3.515625e-01</td>\n    </tr>\n    <tr>\n      <th>66</th>\n      <td>remainder__number_of_open_complaints</td>\n      <td>4.495239e-02</td>\n    </tr>\n    <tr>\n      <th>65</th>\n      <td>remainder__months_since_policy_inception</td>\n      <td>3.955078e-02</td>\n    </tr>\n  </tbody>\n</table>\n<p>68 rows × 2 columns</p>\n</div>"
     },
     "execution_count": 51,
     "metadata": {},
     "output_type": "execute_result"
    }
   ],
   "source": [
    "features_importances = pd.DataFrame(data={\n",
    "    'Attribute': X_train_e_df.columns,\n",
    "    'Importance': abs(model.coef_)\n",
    "})\n",
    "features_importances = features_importances.sort_values(by='Importance', ascending=False)\n",
    "\n",
    "features_importances"
   ],
   "metadata": {
    "collapsed": false,
    "pycharm": {
     "name": "#%%\n"
    }
   }
  },
  {
   "cell_type": "code",
   "execution_count": 53,
   "outputs": [
    {
     "data": {
      "text/plain": "<Figure size 432x288 with 1 Axes>",
      "image/png": "[encoded data removed]"
     },
     "metadata": {
      "needs_background": "light"
     },
     "output_type": "display_data"
    }
   ],
   "source": [
    "plt.bar(x=features_importances['Attribute'].head(10), height=features_importances['Importance'].head(10), color='#087E8B')\n",
    "plt.title('Feature Importances', size=20)\n",
    "plt.xticks(rotation='vertical')\n",
    "plt.show()"
   ],
   "metadata": {
    "collapsed": false,
    "pycharm": {
     "name": "#%%\n"
    }
   }
  },
  {
   "cell_type": "code",
   "execution_count": 54,
   "outputs": [
    {
     "name": "stdout",
     "output_type": "stream",
     "text": [
      "                            OLS Regression Results                            \n",
      "==============================================================================\n",
      "Dep. Variable:     total_claim_amount   R-squared:                       0.770\n",
      "Model:                            OLS   Adj. R-squared:                  0.768\n",
      "Method:                 Least Squares   F-statistic:                     517.4\n",
      "Date:                Thu, 10 Nov 2022   Prob (F-statistic):               0.00\n",
      "Time:                        10:09:41   Log-Likelihood:                -47646.\n",
      "No. Observations:                7482   AIC:                         9.539e+04\n",
      "Df Residuals:                    7433   BIC:                         9.573e+04\n",
      "Df Model:                          48                                         \n",
      "Covariance Type:            nonrobust                                         \n",
      "==============================================================================\n",
      "                 coef    std err          t      P>|t|      [0.025      0.975]\n",
      "------------------------------------------------------------------------------\n",
      "const         58.1337      1.810     32.111      0.000      54.585      61.683\n",
      "x1             1.2874      1.798      0.716      0.474      -2.237       4.812\n",
      "x2            -5.2582      1.877     -2.802      0.005      -8.937      -1.580\n",
      "x3           181.3429      4.796     37.814      0.000     171.942     190.744\n",
      "x4            20.2480      1.862     10.875      0.000      16.598      23.898\n",
      "x5            37.8857      1.909     19.847      0.000      34.144      41.628\n",
      "x6            -1.2143      3.309     -0.367      0.714      -7.701       5.272\n",
      "x7            -6.6483      2.423     -2.744      0.006     -11.398      -1.898\n",
      "x8            65.9963      2.959     22.300      0.000      60.195      71.798\n",
      "x9            30.0256      1.896     15.836      0.000      26.309      33.742\n",
      "x10           28.1081      1.859     15.118      0.000      24.464      31.753\n",
      "x11           42.5371      2.708     15.709      0.000      37.229      47.845\n",
      "x12           15.5966      2.982      5.230      0.000       9.751      21.442\n",
      "x13           14.3816      2.888      4.979      0.000       8.719      20.044\n",
      "x14           19.7111      4.485      4.395      0.000      10.920      28.502\n",
      "x15            9.7068      2.920      3.324      0.001       3.983      15.431\n",
      "x16           14.3342      2.765      5.185      0.000       8.914      19.754\n",
      "x17           18.7756      8.289      2.265      0.024       2.527      35.025\n",
      "x18           23.5716     14.748      1.598      0.110      -5.339      52.482\n",
      "x19            1.5018     13.841      0.109      0.914     -25.631      28.635\n",
      "x20           -4.7624      6.878     -0.692      0.489     -18.245       8.720\n",
      "x21            0.0620      4.760      0.013      0.990      -9.268       9.392\n",
      "x22           18.9852      8.569      2.216      0.027       2.187      35.783\n",
      "x23            5.3063      2.789      1.903      0.057      -0.161      10.774\n",
      "x24           20.6547      2.867      7.205      0.000      15.035      26.274\n",
      "x25           16.6317      3.491      4.765      0.000       9.789      23.474\n",
      "x26           15.5410      4.064      3.824      0.000       7.574      23.508\n",
      "x27           13.9937      2.954      4.737      0.000       8.203      19.785\n",
      "x28           15.6906      2.544      6.168      0.000      10.704      20.677\n",
      "x29           28.4494      4.723      6.024      0.000      19.191      37.708\n",
      "x30            4.1242      6.209      0.664      0.507      -8.048      16.296\n",
      "x31            3.2870      5.482      0.600      0.549      -7.459      14.033\n",
      "x32            6.5826      4.599      1.431      0.152      -2.432      15.598\n",
      "x33            7.6364      3.533      2.162      0.031       0.711      14.562\n",
      "x34            6.0775      2.954      2.057      0.040       0.287      11.868\n",
      "x35            1.9768      2.606      0.759      0.448      -3.132       7.085\n",
      "x36           38.0948     15.077      2.527      0.012       8.539      67.651\n",
      "x37            0.0088     11.114      0.001      0.999     -21.778      21.796\n",
      "x38           -9.6543     11.192     -0.863      0.388     -31.594      12.285\n",
      "x39         -183.8336      3.036    -60.551      0.000    -189.785    -177.882\n",
      "x40          200.1655      2.615     76.541      0.000     195.039     205.292\n",
      "x41           41.8018      3.190     13.103      0.000      35.548      48.056\n",
      "x42           14.0264      2.627      5.339      0.000       8.877      19.176\n",
      "x43           13.6844      2.857      4.789      0.000       8.083      19.285\n",
      "x44           12.9410      3.184      4.065      0.000       6.700      19.182\n",
      "x45           17.4820      3.561      4.909      0.000      10.502      24.462\n",
      "x46           28.7011      3.727      7.700      0.000      21.394      36.008\n",
      "x47           12.9643      2.774      4.674      0.000       7.527      18.402\n",
      "x48           16.4683      5.585      2.949      0.003       5.520      27.416\n",
      "x49           14.9304      3.277      4.556      0.000       8.507      21.354\n",
      "x50            7.9813      3.287      2.428      0.015       1.537      14.426\n",
      "x51            5.3215      7.064      0.753      0.451      -8.526      19.169\n",
      "x52           24.0139      3.341      7.187      0.000      17.464      30.564\n",
      "x53            5.8866      5.086      1.157      0.247      -4.084      15.857\n",
      "x54           -1.4053      6.820     -0.206      0.837     -14.775      11.964\n",
      "x55          -13.0269      4.005     -3.253      0.001     -20.878      -5.176\n",
      "x56           14.7421      6.773      2.177      0.030       1.465      28.019\n",
      "x57          -15.2368      9.278     -1.642      0.101     -33.424       2.950\n",
      "x58           73.0606      4.571     15.984      0.000      64.101      82.021\n",
      "x59           22.3331      1.970     11.337      0.000      18.471      26.195\n",
      "x60           16.8312      1.313     12.818      0.000      14.257      19.405\n",
      "x61           18.9694      1.716     11.054      0.000      15.606      22.333\n",
      "x62           22.3331      1.970     11.337      0.000      18.471      26.195\n",
      "x63           16.8312      1.313     12.818      0.000      14.257      19.405\n",
      "x64           18.9694      1.716     11.054      0.000      15.606      22.333\n",
      "x65            0.3582      0.163      2.202      0.028       0.039       0.677\n",
      "x66            0.0404      0.059      0.689      0.491      -0.075       0.155\n",
      "x67           -0.0451      1.799     -0.025      0.980      -3.572       3.481\n",
      "x68            0.5045      0.688      0.734      0.463      -0.843       1.853\n",
      "==============================================================================\n",
      "Omnibus:                     3519.690   Durbin-Watson:                   1.991\n",
      "Prob(Omnibus):                  0.000   Jarque-Bera (JB):            51651.710\n",
      "Skew:                           1.876   Prob(JB):                         0.00\n",
      "Kurtosis:                      15.313   Cond. No.                     1.36e+16\n",
      "==============================================================================\n",
      "\n",
      "Notes:\n",
      "[1] Standard Errors assume that the covariance matrix of the errors is correctly specified.\n",
      "[2] The smallest eigenvalue is 1.33e-25. This might indicate that there are\n",
      "strong multicollinearity problems or that the design matrix is singular.\n"
     ]
    }
   ],
   "source": [
    "X_train_const_scaled = sm.add_constant(X_train_e)  #adding a constant\n",
    "model = sm.OLS(y_train, X_train_const_scaled).fit()\n",
    "predictions_train = model.predict(X_train_const_scaled)\n",
    "\n",
    "X_test_const_scaled = sm.add_constant(X_test_e)  #adding a constant\n",
    "predictions_test = model.predict(X_test_const_scaled)\n",
    "print_model = model.summary()\n",
    "print(print_model)"
   ],
   "metadata": {
    "collapsed": false,
    "pycharm": {
     "name": "#%%\n"
    }
   }
  },
  {
   "cell_type": "code",
   "execution_count": 55,
   "outputs": [
    {
     "data": {
      "text/plain": "<class 'statsmodels.iolib.table.SimpleTable'>",
      "text/html": "<table class=\"simpletable\">\n<caption>OLS Regression Results</caption>\n<tr>\n  <th>Dep. Variable:</th>    <td>total_claim_amount</td> <th>  R-squared:         </th> <td>   0.770</td> \n</tr>\n<tr>\n  <th>Model:</th>                    <td>OLS</td>        <th>  Adj. R-squared:    </th> <td>   0.768</td> \n</tr>\n<tr>\n  <th>Method:</th>              <td>Least Squares</td>   <th>  F-statistic:       </th> <td>   517.4</td> \n</tr>\n<tr>\n  <th>Date:</th>              <td>Thu, 10 Nov 2022</td>  <th>  Prob (F-statistic):</th>  <td>  0.00</td>  \n</tr>\n<tr>\n  <th>Time:</th>                  <td>10:09:41</td>      <th>  Log-Likelihood:    </th> <td> -47646.</td> \n</tr>\n<tr>\n  <th>No. Observations:</th>       <td>  7482</td>       <th>  AIC:               </th> <td>9.539e+04</td>\n</tr>\n<tr>\n  <th>Df Residuals:</th>           <td>  7433</td>       <th>  BIC:               </th> <td>9.573e+04</td>\n</tr>\n<tr>\n  <th>Df Model:</th>               <td>    48</td>       <th>                     </th>     <td> </td>    \n</tr>\n<tr>\n  <th>Covariance Type:</th>       <td>nonrobust</td>     <th>                     </th>     <td> </td>    \n</tr>\n</table>"
     },
     "execution_count": 55,
     "metadata": {},
     "output_type": "execute_result"
    }
   ],
   "source": [
    "print_model.tables[0]"
   ],
   "metadata": {
    "collapsed": false,
    "pycharm": {
     "name": "#%%\n"
    }
   }
  },
  {
   "cell_type": "code",
   "execution_count": null,
   "outputs": [],
   "source": [],
   "metadata": {
    "collapsed": false,
    "pycharm": {
     "name": "#%%\n"
    }
   }
  },
  {
   "cell_type": "code",
   "execution_count": null,
   "outputs": [],
   "source": [],
   "metadata": {
    "collapsed": false,
    "pycharm": {
     "name": "#%%\n"
    }
   }
  },
  {
   "cell_type": "code",
   "execution_count": null,
   "outputs": [],
   "source": [],
   "metadata": {
    "collapsed": false,
    "pycharm": {
     "name": "#%%\n"
    }
   }
  },
  {
   "cell_type": "code",
   "execution_count": null,
   "outputs": [],
   "source": [],
   "metadata": {
    "collapsed": false,
    "pycharm": {
     "name": "#%%\n"
    }
   }
  },
  {
   "cell_type": "code",
   "execution_count": null,
   "outputs": [],
   "source": [],
   "metadata": {
    "collapsed": false,
    "pycharm": {
     "name": "#%%\n"
    }
   }
  },
  {
   "cell_type": "code",
   "execution_count": null,
   "outputs": [],
   "source": [],
   "metadata": {
    "collapsed": false,
    "pycharm": {
     "name": "#%%\n"
    }
   }
  },
  {
   "cell_type": "code",
   "execution_count": null,
   "outputs": [],
   "source": [],
   "metadata": {
    "collapsed": false,
    "pycharm": {
     "name": "#%%\n"
    }
   }
  },
  {
   "cell_type": "code",
   "execution_count": null,
   "outputs": [],
   "source": [],
   "metadata": {
    "collapsed": false,
    "pycharm": {
     "name": "#%%\n"
    }
   }
  },
  {
   "cell_type": "code",
   "execution_count": null,
   "outputs": [],
   "source": [],
   "metadata": {
    "collapsed": false,
    "pycharm": {
     "name": "#%%\n"
    }
   }
  },
  {
   "cell_type": "code",
   "execution_count": null,
   "outputs": [],
   "source": [],
   "metadata": {
    "collapsed": false,
    "pycharm": {
     "name": "#%%\n"
    }
   }
  },
  {
   "cell_type": "code",
   "execution_count": null,
   "outputs": [],
   "source": [],
   "metadata": {
    "collapsed": false,
    "pycharm": {
     "name": "#%%\n"
    }
   }
  },
  {
   "cell_type": "code",
   "execution_count": null,
   "outputs": [],
   "source": [],
   "metadata": {
    "collapsed": false,
    "pycharm": {
     "name": "#%%\n"
    }
   }
  },
  {
   "cell_type": "code",
   "execution_count": null,
   "outputs": [],
   "source": [],
   "metadata": {
    "collapsed": false,
    "pycharm": {
     "name": "#%%\n"
    }
   }
  },
  {
   "cell_type": "code",
   "execution_count": 74,
   "outputs": [
    {
     "ename": "KeyError",
     "evalue": "\"None of [Index(['const', 'x2', 'x3', 'x4', 'x5', 'x7', 'x8', 'x9', 'x10', 'x11', 'x12',\\n       'x13', 'x14', 'x15', 'x16', 'x17', 'x22', 'x23', 'x24', 'x25', 'x26',\\n       'x27', 'x28', 'x29', 'x33', 'x34', 'x36', 'x39', 'x40', 'x41', 'x42',\\n       'x43', 'x44', 'x45', 'x46', 'x47', 'x48', 'x49', 'x50', 'x52', 'x55',\\n       'x58', 'x59', 'x60', 'x61', 'x62', 'x63', 'x64', 'x65'],\\n      dtype='object')] are in the [columns]\"",
     "output_type": "error",
     "traceback": [
      "\u001B[0;31m---------------------------------------------------------------------------\u001B[0m",
      "\u001B[0;31mKeyError\u001B[0m                                  Traceback (most recent call last)",
      "Input \u001B[0;32mIn [74]\u001B[0m, in \u001B[0;36m<cell line: 2>\u001B[0;34m()\u001B[0m\n\u001B[1;32m      1\u001B[0m model\u001B[38;5;241m.\u001B[39mparams[\u001B[38;5;28mlist\u001B[39m(np\u001B[38;5;241m.\u001B[39mwhere(model\u001B[38;5;241m.\u001B[39mpvalues \u001B[38;5;241m<\u001B[39m \u001B[38;5;241m0.05\u001B[39m)[\u001B[38;5;241m0\u001B[39m])]\u001B[38;5;241m.\u001B[39miloc[\u001B[38;5;241m0\u001B[39m:]\u001B[38;5;241m.\u001B[39mindex\u001B[38;5;241m.\u001B[39mtolist()\n\u001B[0;32m----> 2\u001B[0m significant_features\u001B[38;5;241m=\u001B[39m\u001B[43mX_train_e_df\u001B[49m\u001B[43m[\u001B[49m\u001B[43mmodel\u001B[49m\u001B[38;5;241;43m.\u001B[39;49m\u001B[43mparams\u001B[49m\u001B[43m[\u001B[49m\u001B[38;5;28;43mlist\u001B[39;49m\u001B[43m(\u001B[49m\u001B[43mnp\u001B[49m\u001B[38;5;241;43m.\u001B[39;49m\u001B[43mwhere\u001B[49m\u001B[43m(\u001B[49m\u001B[43mmodel\u001B[49m\u001B[38;5;241;43m.\u001B[39;49m\u001B[43mpvalues\u001B[49m\u001B[43m \u001B[49m\u001B[38;5;241;43m<\u001B[39;49m\u001B[43m \u001B[49m\u001B[38;5;241;43m0.05\u001B[39;49m\u001B[43m)\u001B[49m\u001B[43m[\u001B[49m\u001B[38;5;241;43m0\u001B[39;49m\u001B[43m]\u001B[49m\u001B[43m)\u001B[49m\u001B[43m]\u001B[49m\u001B[38;5;241;43m.\u001B[39;49m\u001B[43miloc\u001B[49m\u001B[43m[\u001B[49m\u001B[38;5;241;43m0\u001B[39;49m\u001B[43m:\u001B[49m\u001B[43m]\u001B[49m\u001B[38;5;241;43m.\u001B[39;49m\u001B[43mindex\u001B[49m\u001B[38;5;241;43m.\u001B[39;49m\u001B[43mtolist\u001B[49m\u001B[43m(\u001B[49m\u001B[43m)\u001B[49m\u001B[43m]\u001B[49m\n\u001B[1;32m      3\u001B[0m sigcols\u001B[38;5;241m=\u001B[39msignificant_features\u001B[38;5;241m.\u001B[39mcolumns\n\u001B[1;32m      4\u001B[0m sigcols\n",
      "File \u001B[0;32m~/.pyenv/versions/mambaforge-4.10.1-4/envs/ih_DA_env/lib/python3.9/site-packages/pandas/core/frame.py:3511\u001B[0m, in \u001B[0;36mDataFrame.__getitem__\u001B[0;34m(self, key)\u001B[0m\n\u001B[1;32m   3509\u001B[0m     \u001B[38;5;28;01mif\u001B[39;00m is_iterator(key):\n\u001B[1;32m   3510\u001B[0m         key \u001B[38;5;241m=\u001B[39m \u001B[38;5;28mlist\u001B[39m(key)\n\u001B[0;32m-> 3511\u001B[0m     indexer \u001B[38;5;241m=\u001B[39m \u001B[38;5;28;43mself\u001B[39;49m\u001B[38;5;241;43m.\u001B[39;49m\u001B[43mcolumns\u001B[49m\u001B[38;5;241;43m.\u001B[39;49m\u001B[43m_get_indexer_strict\u001B[49m\u001B[43m(\u001B[49m\u001B[43mkey\u001B[49m\u001B[43m,\u001B[49m\u001B[43m \u001B[49m\u001B[38;5;124;43m\"\u001B[39;49m\u001B[38;5;124;43mcolumns\u001B[39;49m\u001B[38;5;124;43m\"\u001B[39;49m\u001B[43m)\u001B[49m[\u001B[38;5;241m1\u001B[39m]\n\u001B[1;32m   3513\u001B[0m \u001B[38;5;66;03m# take() does not accept boolean indexers\u001B[39;00m\n\u001B[1;32m   3514\u001B[0m \u001B[38;5;28;01mif\u001B[39;00m \u001B[38;5;28mgetattr\u001B[39m(indexer, \u001B[38;5;124m\"\u001B[39m\u001B[38;5;124mdtype\u001B[39m\u001B[38;5;124m\"\u001B[39m, \u001B[38;5;28;01mNone\u001B[39;00m) \u001B[38;5;241m==\u001B[39m \u001B[38;5;28mbool\u001B[39m:\n",
      "File \u001B[0;32m~/.pyenv/versions/mambaforge-4.10.1-4/envs/ih_DA_env/lib/python3.9/site-packages/pandas/core/indexes/base.py:5782\u001B[0m, in \u001B[0;36mIndex._get_indexer_strict\u001B[0;34m(self, key, axis_name)\u001B[0m\n\u001B[1;32m   5779\u001B[0m \u001B[38;5;28;01melse\u001B[39;00m:\n\u001B[1;32m   5780\u001B[0m     keyarr, indexer, new_indexer \u001B[38;5;241m=\u001B[39m \u001B[38;5;28mself\u001B[39m\u001B[38;5;241m.\u001B[39m_reindex_non_unique(keyarr)\n\u001B[0;32m-> 5782\u001B[0m \u001B[38;5;28;43mself\u001B[39;49m\u001B[38;5;241;43m.\u001B[39;49m\u001B[43m_raise_if_missing\u001B[49m\u001B[43m(\u001B[49m\u001B[43mkeyarr\u001B[49m\u001B[43m,\u001B[49m\u001B[43m \u001B[49m\u001B[43mindexer\u001B[49m\u001B[43m,\u001B[49m\u001B[43m \u001B[49m\u001B[43maxis_name\u001B[49m\u001B[43m)\u001B[49m\n\u001B[1;32m   5784\u001B[0m keyarr \u001B[38;5;241m=\u001B[39m \u001B[38;5;28mself\u001B[39m\u001B[38;5;241m.\u001B[39mtake(indexer)\n\u001B[1;32m   5785\u001B[0m \u001B[38;5;28;01mif\u001B[39;00m \u001B[38;5;28misinstance\u001B[39m(key, Index):\n\u001B[1;32m   5786\u001B[0m     \u001B[38;5;66;03m# GH 42790 - Preserve name from an Index\u001B[39;00m\n",
      "File \u001B[0;32m~/.pyenv/versions/mambaforge-4.10.1-4/envs/ih_DA_env/lib/python3.9/site-packages/pandas/core/indexes/base.py:5842\u001B[0m, in \u001B[0;36mIndex._raise_if_missing\u001B[0;34m(self, key, indexer, axis_name)\u001B[0m\n\u001B[1;32m   5840\u001B[0m     \u001B[38;5;28;01mif\u001B[39;00m use_interval_msg:\n\u001B[1;32m   5841\u001B[0m         key \u001B[38;5;241m=\u001B[39m \u001B[38;5;28mlist\u001B[39m(key)\n\u001B[0;32m-> 5842\u001B[0m     \u001B[38;5;28;01mraise\u001B[39;00m \u001B[38;5;167;01mKeyError\u001B[39;00m(\u001B[38;5;124mf\u001B[39m\u001B[38;5;124m\"\u001B[39m\u001B[38;5;124mNone of [\u001B[39m\u001B[38;5;132;01m{\u001B[39;00mkey\u001B[38;5;132;01m}\u001B[39;00m\u001B[38;5;124m] are in the [\u001B[39m\u001B[38;5;132;01m{\u001B[39;00maxis_name\u001B[38;5;132;01m}\u001B[39;00m\u001B[38;5;124m]\u001B[39m\u001B[38;5;124m\"\u001B[39m)\n\u001B[1;32m   5844\u001B[0m not_found \u001B[38;5;241m=\u001B[39m \u001B[38;5;28mlist\u001B[39m(ensure_index(key)[missing_mask\u001B[38;5;241m.\u001B[39mnonzero()[\u001B[38;5;241m0\u001B[39m]]\u001B[38;5;241m.\u001B[39munique())\n\u001B[1;32m   5845\u001B[0m \u001B[38;5;28;01mraise\u001B[39;00m \u001B[38;5;167;01mKeyError\u001B[39;00m(\u001B[38;5;124mf\u001B[39m\u001B[38;5;124m\"\u001B[39m\u001B[38;5;132;01m{\u001B[39;00mnot_found\u001B[38;5;132;01m}\u001B[39;00m\u001B[38;5;124m not in index\u001B[39m\u001B[38;5;124m\"\u001B[39m)\n",
      "\u001B[0;31mKeyError\u001B[0m: \"None of [Index(['const', 'x2', 'x3', 'x4', 'x5', 'x7', 'x8', 'x9', 'x10', 'x11', 'x12',\\n       'x13', 'x14', 'x15', 'x16', 'x17', 'x22', 'x23', 'x24', 'x25', 'x26',\\n       'x27', 'x28', 'x29', 'x33', 'x34', 'x36', 'x39', 'x40', 'x41', 'x42',\\n       'x43', 'x44', 'x45', 'x46', 'x47', 'x48', 'x49', 'x50', 'x52', 'x55',\\n       'x58', 'x59', 'x60', 'x61', 'x62', 'x63', 'x64', 'x65'],\\n      dtype='object')] are in the [columns]\""
     ]
    }
   ],
   "source": [
    "model.params[list(np.where(model.pvalues < 0.05)[0])].iloc[0:].index.tolist()\n",
    "significant_features=X_train_e_df[model.params[list(np.where(model.pvalues < 0.05)[0])].iloc[0:].index.tolist()]\n",
    "sigcols=significant_features.columns\n",
    "sigcols"
   ],
   "metadata": {
    "collapsed": false,
    "pycharm": {
     "name": "#%%\n"
    }
   }
  },
  {
   "cell_type": "code",
   "execution_count": 102,
   "outputs": [],
   "source": [
    "import xgboost as xgb"
   ],
   "metadata": {
    "collapsed": false,
    "pycharm": {
     "name": "#%%\n"
    }
   }
  },
  {
   "cell_type": "code",
   "execution_count": 103,
   "outputs": [],
   "source": [
    "xgb_r = xgb.XGBRegressor(objective ='reg:linear', n_estimators = 10, seed = RANDOM_STATE)"
   ],
   "metadata": {
    "collapsed": false,
    "pycharm": {
     "name": "#%%\n"
    }
   }
  },
  {
   "cell_type": "code",
   "execution_count": 104,
   "outputs": [
    {
     "name": "stdout",
     "output_type": "stream",
     "text": [
      "[09:19:46] WARNING: /Users/runner/miniforge3/conda-bld/xgboost-split_1645117899018/work/src/objective/regression_obj.cu:188: reg:linear is now deprecated in favor of reg:squarederror.\n"
     ]
    }
   ],
   "source": [
    "# Fitting the model\n",
    "xgb_r.fit(X_train_e,y_train)\n",
    "\n",
    "# Predict the model\n",
    "pred = xgb_r.predict(X_test_e)"
   ],
   "metadata": {
    "collapsed": false,
    "pycharm": {
     "name": "#%%\n"
    }
   }
  },
  {
   "cell_type": "code",
   "execution_count": 105,
   "outputs": [
    {
     "name": "stdout",
     "output_type": "stream",
     "text": [
      "R2 score :  0.842296\n"
     ]
    }
   ],
   "source": [
    "# R2 Computation\n",
    "r2 = r2_score(y_test,pred)\n",
    "print(\"R2 score : % f\" %(r2))"
   ],
   "metadata": {
    "collapsed": false,
    "pycharm": {
     "name": "#%%\n"
    }
   }
  },
  {
   "cell_type": "code",
   "execution_count": 106,
   "outputs": [
    {
     "name": "stdout",
     "output_type": "stream",
     "text": [
      "Lasso: Train -> 0.7735190588987603, Test -> 0.772504994091616\n"
     ]
    }
   ],
   "source": [
    "model=Lasso(alpha=0.05)\n",
    "\n",
    "model.fit(X_train_e, y_train)\n",
    "print(f\"{model.__class__.__name__}: Train -> {model.score(X_train_e, y_train)}, Test -> {model.score(X_test_e, y_test)}\")"
   ],
   "metadata": {
    "collapsed": false,
    "pycharm": {
     "name": "#%%\n"
    }
   }
  },
  {
   "cell_type": "code",
   "execution_count": 107,
   "outputs": [
    {
     "name": "stdout",
     "output_type": "stream",
     "text": [
      "Ridge: Train -> 0.7735419376148827, Test -> 0.7725431230273385\n"
     ]
    }
   ],
   "source": [
    "model=Ridge(alpha=0.05)\n",
    "model.fit(X_train_e, y_train)\n",
    "print(f\"{model.__class__.__name__}: Train -> {model.score(X_train_e, y_train)}, Test -> {model.score(X_test_e, y_test)}\")"
   ],
   "metadata": {
    "collapsed": false,
    "pycharm": {
     "name": "#%%\n"
    }
   }
  },
  {
   "cell_type": "code",
   "execution_count": 107,
   "outputs": [],
   "source": [],
   "metadata": {
    "collapsed": false,
    "pycharm": {
     "name": "#%%\n"
    }
   }
  },
  {
   "cell_type": "code",
   "execution_count": null,
   "outputs": [],
   "source": [],
   "metadata": {
    "collapsed": false,
    "pycharm": {
     "name": "#%%\n"
    }
   }
  }
 ],
 "metadata": {
  "kernelspec": {
   "display_name": "Python 3",
   "language": "python",
   "name": "python3"
  },
  "language_info": {
   "codemirror_mode": {
    "name": "ipython",
    "version": 2
   },
   "file_extension": ".py",
   "mimetype": "text/x-python",
   "name": "python",
   "nbconvert_exporter": "python",
   "pygments_lexer": "ipython2",
   "version": "2.7.6"
  }
 },
 "nbformat": 4,
 "nbformat_minor": 0
}