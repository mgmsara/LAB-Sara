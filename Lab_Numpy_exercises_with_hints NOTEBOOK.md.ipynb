{
 "cells": [
  {
   "cell_type": "markdown",
   "id": "c200250e",
   "metadata": {},
   "source": [
    "# numpy exercises\n",
    "\n",
    "This is a collection of exercises that have been collected in the numpy mailing list, on stack overflow\n",
    "and in the numpy documentation. The goal of this collection is to offer a quick reference for both old\n",
    "and new users but also to provide a set of exercises for those who teach.\n",
    "\n",
    "\n",
    "If you find an error or think you've a better way to solve some of them, feel\n",
    "free to open an issue at <https://github.com/rougier/numpy-100>.\n",
    "File automatically generated. See the documentation to update questions/answers/hints programmatically.\n",
    "\n",
    "\n"
   ]
  },
  {
   "cell_type": "code",
   "execution_count": 2,
   "id": "d8864b03",
   "metadata": {},
   "outputs": [],
   "source": [
    "#### 1. Import the numpy package under the name `np` (★☆☆)\n",
    "#`hint: import … as`\n",
    "import numpy as np"
   ]
  },
  {
   "cell_type": "code",
   "execution_count": 20,
   "id": "b3036f12",
   "metadata": {},
   "outputs": [
    {
     "name": "stdout",
     "output_type": "stream",
     "text": [
      "[0. 0. 0. 0. 0. 0. 0. 0. 0. 0.]\n"
     ]
    }
   ],
   "source": [
    "#### 2. Create a null vector of size 10 (★☆☆)\n",
    "#`hint: np.zeros`\n",
    "a = np.zeros((10))\n",
    "print(a)"
   ]
  },
  {
   "cell_type": "code",
   "execution_count": 21,
   "id": "891fd30d",
   "metadata": {},
   "outputs": [
    {
     "name": "stdout",
     "output_type": "stream",
     "text": [
      "[0. 0. 0. 0. 1. 0. 0. 0. 0. 0.]\n"
     ]
    }
   ],
   "source": [
    "#### 3. Create a null vector of size 10 but the fifth value which is 1 (★☆☆)\n",
    "#`hint: array[4]`\n",
    "a[4] = 1\n",
    "print(a)\n"
   ]
  },
  {
   "cell_type": "code",
   "execution_count": 31,
   "id": "175d2203",
   "metadata": {},
   "outputs": [
    {
     "name": "stdout",
     "output_type": "stream",
     "text": [
      "[10 11 12 13 14 15 16 17 18 19 20 21 22 23 24 25 26 27 28 29 30 31 32 33\n",
      " 34 35 36 37 38 39 40 41 42 43 44 45 46 47 48 49]\n"
     ]
    }
   ],
   "source": [
    "#### 4. Create a vector with values ranging from 10 to 49 (★☆☆)\n",
    "#`hint: arange`\n",
    "\n",
    "b = np.arange(10,50)\n",
    "print(b)"
   ]
  },
  {
   "cell_type": "code",
   "execution_count": 34,
   "id": "0d1fd6c0",
   "metadata": {},
   "outputs": [
    {
     "name": "stdout",
     "output_type": "stream",
     "text": [
      "[[0 1 2]\n",
      " [3 4 5]\n",
      " [6 7 8]]\n"
     ]
    }
   ],
   "source": [
    "#### 5. Create a 3x3 matrix with values ranging from 0 to 8 (★☆☆)\n",
    "#`hint: reshape`\n",
    "\n",
    "c = np.arange(0, 9).reshape((3, 3))\n",
    "print(c)"
   ]
  },
  {
   "cell_type": "code",
   "execution_count": 40,
   "id": "70c7c565",
   "metadata": {},
   "outputs": [
    {
     "data": {
      "text/plain": [
       "(array([0, 1, 4]),)"
      ]
     },
     "execution_count": 40,
     "metadata": {},
     "output_type": "execute_result"
    }
   ],
   "source": [
    "#### 6. Find indices of non-zero elements from [1,2,0,0,4,0] (★☆☆)\n",
    "#`hint: np.nonzero`\n",
    "\n",
    "d = np.array([1,2,0,0,4,0])\n",
    "np.nonzero(d)\n"
   ]
  },
  {
   "cell_type": "code",
   "execution_count": 43,
   "id": "90804eab",
   "metadata": {},
   "outputs": [
    {
     "name": "stdout",
     "output_type": "stream",
     "text": [
      "[[1. 0. 0.]\n",
      " [0. 1. 0.]\n",
      " [0. 0. 1.]]\n"
     ]
    }
   ],
   "source": [
    "#### 7. Create a 3x3 identity matrix (★☆☆)\n",
    "#`hint: np.eye\n",
    "\n",
    "e = np.eye(3, 3)\n",
    "print(e)"
   ]
  },
  {
   "cell_type": "code",
   "execution_count": 47,
   "id": "a28dc158",
   "metadata": {},
   "outputs": [
    {
     "name": "stdout",
     "output_type": "stream",
     "text": [
      "[[[0.55532834 0.41501755 0.94763338]\n",
      "  [0.67033922 0.79877287 0.04569334]\n",
      "  [0.21058181 0.50800797 0.83277998]]\n",
      "\n",
      " [[0.03899891 0.03539502 0.39172542]\n",
      "  [0.46091547 0.01473856 0.49805008]\n",
      "  [0.86068201 0.48824381 0.08827804]]\n",
      "\n",
      " [[0.00130577 0.50447877 0.52451884]\n",
      "  [0.46103318 0.30492517 0.77229115]\n",
      "  [0.04940909 0.96233815 0.88465087]]]\n"
     ]
    }
   ],
   "source": [
    "#### 8. Create a 3x3x3 array with random values (★☆☆)\n",
    "#`hint: np.random.random`\n",
    "\n",
    "f = np.random.random([3, 3, 3])\n",
    "print(f)"
   ]
  },
  {
   "cell_type": "code",
   "execution_count": 56,
   "id": "edf2cb16",
   "metadata": {},
   "outputs": [
    {
     "name": "stdout",
     "output_type": "stream",
     "text": [
      "0.9973888335898248 4.4848260572827314e-05\n"
     ]
    }
   ],
   "source": [
    "#### 9. Create a 10x10 array with random values and find the minimum and maximum values (★☆☆)\n",
    "#`hint: min, max\n",
    "\n",
    "g = np.random.random([10, 10])\n",
    "\n",
    "max_element = np.max(g)\n",
    "min_element = np.min(g)\n",
    "\n",
    "\n",
    "print(max_element, min_element)"
   ]
  },
  {
   "cell_type": "code",
   "execution_count": 58,
   "id": "25656b49",
   "metadata": {},
   "outputs": [
    {
     "name": "stdout",
     "output_type": "stream",
     "text": [
      "0.9999121203809221\n",
      "0.009260726388661822\n"
     ]
    }
   ],
   "source": [
    "#or without assigment\n",
    "g = np.random.random([10, 10])\n",
    "\n",
    "print(np.max(g))\n",
    "print(np.min(g))\n"
   ]
  },
  {
   "cell_type": "code",
   "execution_count": 62,
   "id": "4ccad9bc",
   "metadata": {},
   "outputs": [
    {
     "name": "stdout",
     "output_type": "stream",
     "text": [
      "0.6332327262752118\n"
     ]
    }
   ],
   "source": [
    "#### 10. Create a random vector of size 30 and find the mean value (★☆☆)\n",
    "#`hint: mean`\n",
    "\n",
    "h = np.random.random(30)\n",
    "\n",
    "print(np.mean(h))"
   ]
  },
  {
   "cell_type": "code",
   "execution_count": 65,
   "id": "43ed5579",
   "metadata": {},
   "outputs": [
    {
     "name": "stdout",
     "output_type": "stream",
     "text": [
      "[[1. 0. 0. 0. 0.]\n",
      " [0. 1. 0. 0. 0.]\n",
      " [0. 0. 1. 0. 0.]\n",
      " [0. 0. 0. 1. 0.]\n",
      " [1. 2. 3. 4. 1.]]\n"
     ]
    }
   ],
   "source": [
    "#### 11. Create a 5x5 matrix with values 1,2,3,4 just below the diagonal (★☆☆)\n",
    "#`hint: np.diag`\n",
    "    \n",
    "i = np.eye(5,5)\n",
    "\n",
    "i[4,0] = 1\n",
    "i[4,1] = 2\n",
    "i[4,2] = 3\n",
    "i[4,3] = 4\n",
    "\n",
    "print(i)\n"
   ]
  },
  {
   "cell_type": "code",
   "execution_count": 82,
   "id": "576be993",
   "metadata": {},
   "outputs": [
    {
     "name": "stdout",
     "output_type": "stream",
     "text": [
      "[[-1.58876459 -1.08284563 -0.72543241 -1.57864638 -1.04565336]\n",
      " [-0.9428561  -0.74558183 -1.25703206 -1.56224335 -0.67831088]\n",
      " [-1.41018305 -1.1602061  -1.08286313 -1.51764776 -0.70575765]\n",
      " [-1.080261   -0.80922604 -1.10241159 -0.8096242  -1.38077442]\n",
      " [-1.04576646 -1.58253964 -0.76689524 -0.83780646 -1.47065108]]\n"
     ]
    }
   ],
   "source": [
    "#### 12. Normalize a 5x5 random matrix (★☆☆)\n",
    "#`hint: (x -mean)/std`\n",
    "\n",
    "j = np.random.random([5,5])\n",
    "normalize_j = (j - np.mean(j)/np.std(j))\n",
    "\n",
    "print(normalize_j)"
   ]
  },
  {
   "cell_type": "code",
   "execution_count": 134,
   "id": "a9b02df0",
   "metadata": {},
   "outputs": [
    {
     "name": "stdout",
     "output_type": "stream",
     "text": [
      "[0 1 2 3]\n"
     ]
    }
   ],
   "source": [
    "#### 13. How to find common values between two arrays? (★☆☆)\n",
    "#`hint: np.intersect1d`\n",
    "\n",
    "k = np.arange(4)\n",
    "l = np.arange(10)\n",
    "\n",
    "common_values = np.intersect1d([k], [l])\n",
    "\n",
    "print(common_values)\n",
    "\n"
   ]
  },
  {
   "cell_type": "code",
   "execution_count": 135,
   "id": "f20b5ab7",
   "metadata": {},
   "outputs": [
    {
     "name": "stdout",
     "output_type": "stream",
     "text": [
      "[0.00244062 0.06102892 0.10036754 0.31101437 0.40912993 0.41155923\n",
      " 0.58810023 0.71099264 0.7426656  0.94875304]\n"
     ]
    }
   ],
   "source": [
    "#### 14. Create a random vector of size 10 and sort it (★★☆)\n",
    "#`hint: sort`\n",
    "    \n",
    "m = np.random.random(10)\n",
    "\n",
    "print(np.sort(m))"
   ]
  },
  {
   "cell_type": "code",
   "execution_count": 15,
   "id": "e96c6b0e",
   "metadata": {},
   "outputs": [
    {
     "name": "stdout",
     "output_type": "stream",
     "text": [
      "[0.16168233 0.97952292 0.2853989  0.49562692 0.72092716 0.47245792\n",
      " 0.21242994 0.26802774 0.03595222 0.        ]\n"
     ]
    }
   ],
   "source": [
    "#### 15. Create random vector of size 10 and replace the maximum value by 0 (★★☆)\n",
    "#`hint: argmax`\n",
    "    \n",
    "n = np.random.random(10)\n",
    "position = np.where(n == max(n))\n",
    "n[position]=0\n",
    "\n",
    "#max_value = np.max(n)\n",
    "\n",
    "\n",
    "\n",
    "\n",
    "print(n)\n",
    "\n",
    "\n"
   ]
  },
  {
   "cell_type": "code",
   "execution_count": null,
   "id": "0a520ff4",
   "metadata": {},
   "outputs": [],
   "source": [
    "#numpy.argmax(a, axis=None, out=None, *, keepdims=<no value>)[source]"
   ]
  },
  {
   "cell_type": "code",
   "execution_count": 117,
   "id": "afcdfc49",
   "metadata": {},
   "outputs": [
    {
     "name": "stdout",
     "output_type": "stream",
     "text": [
      "[[0.38339086 0.37561506]\n",
      " [0.20117335 0.86447359]]\n"
     ]
    }
   ],
   "source": [
    "#### 16. Subtract the mean of each row of a matrix (★★☆)\n",
    "#`hint: mean(axis=,keepdims=)`\n",
    "\n",
    "x = np.random.random([2, 2])\n",
    "print(x)\n",
    "\n",
    "\n"
   ]
  },
  {
   "cell_type": "code",
   "execution_count": 118,
   "id": "aa84e7e1",
   "metadata": {},
   "outputs": [
    {
     "name": "stdout",
     "output_type": "stream",
     "text": [
      "[[0.2922821  0.62004433]]\n",
      "[[0.37950296]\n",
      " [0.53282347]]\n"
     ]
    }
   ],
   "source": [
    "print(np.mean(x, axis= 0,keepdims= True))\n",
    "\n",
    "print(np.mean(x, axis= 1,keepdims= True))"
   ]
  },
  {
   "cell_type": "code",
   "execution_count": 122,
   "id": "e1ce4fb8",
   "metadata": {},
   "outputs": [
    {
     "name": "stdout",
     "output_type": "stream",
     "text": [
      "5 largest value: 9995\n"
     ]
    }
   ],
   "source": [
    "#### 17. How to get the n largest values of an array (★★★)\n",
    "Z = np.arange(10000)\n",
    "np.random.shuffle(Z)\n",
    "n = 5\n",
    "#hint: np.argsort | np.argpartition`\n",
    "\n",
    "sorted_index_array = np.argsort(Z)\n",
    "sorted_array = Z[sorted_index_array]\n",
    "\n",
    "\n",
    "rslt = sorted_array[-n : ]\n",
    "\n",
    "print(\"{} largest value:\".format(n),\n",
    "      rslt[0])\n"
   ]
  },
  {
   "cell_type": "code",
   "execution_count": 19,
   "id": "25c6f4d3",
   "metadata": {},
   "outputs": [
    {
     "name": "stdout",
     "output_type": "stream",
     "text": [
      "[[ 2 36 81]\n",
      " [ 1  0 25]\n",
      " [49  3 64]\n",
      " [64 64 36]\n",
      " [81  3 25]]\n"
     ]
    }
   ],
   "source": [
    "#### 18. Create a random 5*3 matrix and replace items that are larger than 4 by their squares ( Example:  6 --> 36) \n",
    "#`hint: np.where`\n",
    "#array = np.random.randint(10, size=(2, 3))\n",
    "#np.where(a < 5, a, 10*a)\n",
    "\n",
    "m = np.random.randint(10, size=(5, 3))\n",
    "\n",
    "m = np.where((m > 4), m**2, m)\n",
    "\n",
    "print(m) \n",
    "#arr2 = arr[np.where((arr >5) & (arr 5) | (arr % 5 == 0))]\n",
    "\n"
   ]
  }
 ],
 "metadata": {
  "kernelspec": {
   "display_name": "Python 3 (ipykernel)",
   "language": "python",
   "name": "python3"
  },
  "language_info": {
   "codemirror_mode": {
    "name": "ipython",
    "version": 3
   },
   "file_extension": ".py",
   "mimetype": "text/x-python",
   "name": "python",
   "nbconvert_exporter": "python",
   "pygments_lexer": "ipython3",
   "version": "3.9.12"
  }
 },
 "nbformat": 4,
 "nbformat_minor": 5
}
