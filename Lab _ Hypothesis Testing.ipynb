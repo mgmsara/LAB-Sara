{
 "cells": [
  {
   "cell_type": "markdown",
   "id": "a3d21ee4",
   "metadata": {},
   "source": [
    "# Lab | Hypothesis Testing\n",
    "Instructions\n",
    "It is assumed that the mean systolic blood pressure is μ = 120 mm Hg. In the Honolulu Heart Study, a sample of n = 100 people had an average systolic blood pressure of 130.1 mm Hg with a standard deviation of 21.21 mm Hg. Is the group significantly different (with respect to systolic blood pressure!) from the regular population?\n",
    "\n",
    "Set up the hypothesis test.\n",
    "Write down all the steps followed for setting up the test.\n",
    "Calculate the test statistic by hand and also code it in Python. It should be 4.76190. What decision can you make based on this calculated value?\n"
   ]
  },
  {
   "cell_type": "code",
   "execution_count": 1,
   "id": "4f12f058",
   "metadata": {},
   "outputs": [],
   "source": [
    "import numpy as np\n",
    "import pandas as pd\n",
    "import scipy.stats as stats\n",
    "import matplotlib.pyplot as plt\n",
    "import seaborn as sns\n",
    "\n",
    "%matplotlib inline"
   ]
  },
  {
   "cell_type": "code",
   "execution_count": 16,
   "id": "5176f92d",
   "metadata": {},
   "outputs": [],
   "source": [
    "n = 100 # 100 > 30 -> Normal distribution\n",
    "# Ho: μ  = 120\n",
    "# Ha: μ  != 120\n",
    "n= 100\n",
    "sample_mean = 130.1\n",
    "pop_mean = 120\n",
    "pop_std_dev_sample = 21.21"
   ]
  },
  {
   "cell_type": "code",
   "execution_count": 17,
   "id": "fb44a75c",
   "metadata": {},
   "outputs": [
    {
     "name": "stdout",
     "output_type": "stream",
     "text": [
      "Our t score is: 4.76\n"
     ]
    }
   ],
   "source": [
    "t = ( sample_mean - pop_mean ) / ( pop_std_dev_sample / np.sqrt(100) )\n",
    "print(\"Our t score is: {:.2f}\".format(t))"
   ]
  },
  {
   "cell_type": "markdown",
   "id": "0fcc4468",
   "metadata": {},
   "source": [
    "Let's set the confidence level to 95% = 0.95"
   ]
  },
  {
   "cell_type": "markdown",
   "id": "a1839161",
   "metadata": {},
   "source": [
    "Two sided: Ha: != 120"
   ]
  },
  {
   "cell_type": "code",
   "execution_count": 19,
   "id": "d3e8e60b",
   "metadata": {},
   "outputs": [
    {
     "data": {
      "text/plain": [
       "1.9839715184496334"
      ]
     },
     "execution_count": 19,
     "metadata": {},
     "output_type": "execute_result"
    }
   ],
   "source": [
    "tc = stats.t.ppf(0.975, df=n )\n",
    "tc"
   ]
  },
  {
   "cell_type": "code",
   "execution_count": 22,
   "id": "5e142202",
   "metadata": {},
   "outputs": [
    {
     "name": "stdout",
     "output_type": "stream",
     "text": [
      "Our tc score is: 1.98\n"
     ]
    }
   ],
   "source": [
    "print(\"Our tc score is: {:.2f}\".format(tc))"
   ]
  },
  {
   "cell_type": "markdown",
   "id": "450d4301",
   "metadata": {},
   "source": [
    "### conculsion: we reject the null hypothesis. average score differes from 120"
   ]
  },
  {
   "cell_type": "code",
   "execution_count": null,
   "id": "3c99585f",
   "metadata": {},
   "outputs": [],
   "source": []
  }
 ],
 "metadata": {
  "kernelspec": {
   "display_name": "Python 3 (ipykernel)",
   "language": "python",
   "name": "python3"
  },
  "language_info": {
   "codemirror_mode": {
    "name": "ipython",
    "version": 3
   },
   "file_extension": ".py",
   "mimetype": "text/x-python",
   "name": "python",
   "nbconvert_exporter": "python",
   "pygments_lexer": "ipython3",
   "version": "3.9.12"
  }
 },
 "nbformat": 4,
 "nbformat_minor": 5
}
